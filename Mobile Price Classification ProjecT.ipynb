{
 "cells": [
  {
   "cell_type": "markdown",
   "metadata": {},
   "source": [
    "### ECE-221710401061-v.mukesh"
   ]
  },
  {
   "cell_type": "markdown",
   "metadata": {},
   "source": [
    "**Problem Statement :**"
   ]
  },
  {
   "cell_type": "markdown",
   "metadata": {},
   "source": [
    "Bob has started his own mobile company. He wants to give tough fight to big companies like Apple,Samsung etc.\n",
    "\n",
    "He does not know how to estimate price of mobiles his company creates. In this competitive mobile phone market you cannot simply assume things. To solve this problem he collects sales data of mobile phones of various companies.\n",
    "\n",
    "Bob wants to find out some relation between features of a mobile phone(eg:- RAM,Internal Memory etc) and its selling price. But he is not so good at Machine Learning. So he needs your help to solve this problem.\n",
    "\n",
    "In this problem you do not have to predict actual price but a price range indicating how high the price is"
   ]
  },
  {
   "cell_type": "markdown",
   "metadata": {},
   "source": [
    "**Datasets :**"
   ]
  },
  {
   "cell_type": "markdown",
   "metadata": {},
   "source": [
    "The dataset is taken from the kaggle. The dataset contains several attributes of mobile phone features\n",
    "https://www.kaggle.com/iabhishekofficial/mobile-price-classification\n"
   ]
  },
  {
   "cell_type": "markdown",
   "metadata": {},
   "source": [
    "In this data the attributes given are and there explanations:\n",
    "- id:ID\n",
    "- battery_power:Total energy a battery can store in one   time       measured in mAh\n",
    "- blue:Has bluetooth or not\n",
    "- clock_speed:speed at which microprocessor executes instructions\n",
    "- dual_sim:Has dual sim support or not\n",
    "- fc:Front Camera mega pixels\n",
    "- four_g:Has 4G or not\n",
    "- int_memory:Internal Memory in Gigabytes\n",
    "- m_dep:Mobile Depth in cm\n",
    "- mobile_wt:Weight of mobile phone\n",
    "- n_cores:Number of cores of processor\n",
    "- pc:Primary Camera mega pixels\n",
    "- px_height:Pixel Resolution Height\n",
    "- px_width:Pixel Resolution Width\n",
    "- ram:Random Access Memory in Megabytes\n",
    "- sc_h:Screen Height of mobile in cm\n",
    "- sc_w:Screen Width of mobile in cm\n",
    "- talk_time:longest time that a single battery charge will - last when you are\n",
    "- three_g:Has 3G or not\n",
    "- touch_screen:Has touch screen or not\n",
    "- wifi:Has wifi or not"
   ]
  },
  {
   "cell_type": "markdown",
   "metadata": {},
   "source": [
    "**USES:**\n",
    "- This kind of prediction will help companies estimate price of mobiles to give tough competion to other mobile manufacturer\n",
    "- Also it will be usefull for Consumers to verify that they are paying best price for a mobile."
   ]
  },
  {
   "cell_type": "markdown",
   "metadata": {},
   "source": [
    "## 1.Importing Packages:"
   ]
  },
  {
   "cell_type": "code",
   "execution_count": 1,
   "metadata": {},
   "outputs": [],
   "source": [
    "import numpy as np \n",
    "import pandas as pd\n",
    "import seaborn as sns\n",
    "import matplotlib.pyplot as plt\n",
    "%matplotlib inline"
   ]
  },
  {
   "cell_type": "markdown",
   "metadata": {},
   "source": [
    "Know the versions of packages"
   ]
  },
  {
   "cell_type": "code",
   "execution_count": 2,
   "metadata": {},
   "outputs": [
    {
     "name": "stdout",
     "output_type": "stream",
     "text": [
      "numpy: 1.18.1\n",
      "pandas: 1.0.1\n",
      "seaborn: 0.10.0\n",
      "matplotlib: 3.1.3\n"
     ]
    }
   ],
   "source": [
    "import numpy\n",
    "import matplotlib\n",
    "print('numpy:',numpy.__version__)\n",
    "print('pandas:',pd.__version__)\n",
    "print('seaborn:',sns.__version__)\n",
    "print('matplotlib:',matplotlib.__version__)"
   ]
  },
  {
   "cell_type": "code",
   "execution_count": 3,
   "metadata": {},
   "outputs": [],
   "source": [
    "df_train=pd.read_csv('https://raw.githubusercontent.com/vangapatiMukesh/AI-ML/master/train.csv')"
   ]
  },
  {
   "cell_type": "code",
   "execution_count": 4,
   "metadata": {},
   "outputs": [
    {
     "data": {
      "text/html": [
       "<div>\n",
       "<style scoped>\n",
       "    .dataframe tbody tr th:only-of-type {\n",
       "        vertical-align: middle;\n",
       "    }\n",
       "\n",
       "    .dataframe tbody tr th {\n",
       "        vertical-align: top;\n",
       "    }\n",
       "\n",
       "    .dataframe thead th {\n",
       "        text-align: right;\n",
       "    }\n",
       "</style>\n",
       "<table border=\"1\" class=\"dataframe\">\n",
       "  <thead>\n",
       "    <tr style=\"text-align: right;\">\n",
       "      <th></th>\n",
       "      <th>battery_power</th>\n",
       "      <th>blue</th>\n",
       "      <th>clock_speed</th>\n",
       "      <th>dual_sim</th>\n",
       "      <th>fc</th>\n",
       "      <th>four_g</th>\n",
       "      <th>int_memory</th>\n",
       "      <th>m_dep</th>\n",
       "      <th>mobile_wt</th>\n",
       "      <th>n_cores</th>\n",
       "      <th>...</th>\n",
       "      <th>px_height</th>\n",
       "      <th>px_width</th>\n",
       "      <th>ram</th>\n",
       "      <th>sc_h</th>\n",
       "      <th>sc_w</th>\n",
       "      <th>talk_time</th>\n",
       "      <th>three_g</th>\n",
       "      <th>touch_screen</th>\n",
       "      <th>wifi</th>\n",
       "      <th>price_range</th>\n",
       "    </tr>\n",
       "  </thead>\n",
       "  <tbody>\n",
       "    <tr>\n",
       "      <th>0</th>\n",
       "      <td>842</td>\n",
       "      <td>0</td>\n",
       "      <td>2.2</td>\n",
       "      <td>0</td>\n",
       "      <td>1</td>\n",
       "      <td>0</td>\n",
       "      <td>7</td>\n",
       "      <td>0.6</td>\n",
       "      <td>188</td>\n",
       "      <td>2</td>\n",
       "      <td>...</td>\n",
       "      <td>20</td>\n",
       "      <td>756</td>\n",
       "      <td>2549</td>\n",
       "      <td>9</td>\n",
       "      <td>7</td>\n",
       "      <td>19</td>\n",
       "      <td>0</td>\n",
       "      <td>0</td>\n",
       "      <td>1</td>\n",
       "      <td>1</td>\n",
       "    </tr>\n",
       "    <tr>\n",
       "      <th>1</th>\n",
       "      <td>1021</td>\n",
       "      <td>1</td>\n",
       "      <td>0.5</td>\n",
       "      <td>1</td>\n",
       "      <td>0</td>\n",
       "      <td>1</td>\n",
       "      <td>53</td>\n",
       "      <td>0.7</td>\n",
       "      <td>136</td>\n",
       "      <td>3</td>\n",
       "      <td>...</td>\n",
       "      <td>905</td>\n",
       "      <td>1988</td>\n",
       "      <td>2631</td>\n",
       "      <td>17</td>\n",
       "      <td>3</td>\n",
       "      <td>7</td>\n",
       "      <td>1</td>\n",
       "      <td>1</td>\n",
       "      <td>0</td>\n",
       "      <td>2</td>\n",
       "    </tr>\n",
       "    <tr>\n",
       "      <th>2</th>\n",
       "      <td>563</td>\n",
       "      <td>1</td>\n",
       "      <td>0.5</td>\n",
       "      <td>1</td>\n",
       "      <td>2</td>\n",
       "      <td>1</td>\n",
       "      <td>41</td>\n",
       "      <td>0.9</td>\n",
       "      <td>145</td>\n",
       "      <td>5</td>\n",
       "      <td>...</td>\n",
       "      <td>1263</td>\n",
       "      <td>1716</td>\n",
       "      <td>2603</td>\n",
       "      <td>11</td>\n",
       "      <td>2</td>\n",
       "      <td>9</td>\n",
       "      <td>1</td>\n",
       "      <td>1</td>\n",
       "      <td>0</td>\n",
       "      <td>2</td>\n",
       "    </tr>\n",
       "    <tr>\n",
       "      <th>3</th>\n",
       "      <td>615</td>\n",
       "      <td>1</td>\n",
       "      <td>2.5</td>\n",
       "      <td>0</td>\n",
       "      <td>0</td>\n",
       "      <td>0</td>\n",
       "      <td>10</td>\n",
       "      <td>0.8</td>\n",
       "      <td>131</td>\n",
       "      <td>6</td>\n",
       "      <td>...</td>\n",
       "      <td>1216</td>\n",
       "      <td>1786</td>\n",
       "      <td>2769</td>\n",
       "      <td>16</td>\n",
       "      <td>8</td>\n",
       "      <td>11</td>\n",
       "      <td>1</td>\n",
       "      <td>0</td>\n",
       "      <td>0</td>\n",
       "      <td>2</td>\n",
       "    </tr>\n",
       "    <tr>\n",
       "      <th>4</th>\n",
       "      <td>1821</td>\n",
       "      <td>1</td>\n",
       "      <td>1.2</td>\n",
       "      <td>0</td>\n",
       "      <td>13</td>\n",
       "      <td>1</td>\n",
       "      <td>44</td>\n",
       "      <td>0.6</td>\n",
       "      <td>141</td>\n",
       "      <td>2</td>\n",
       "      <td>...</td>\n",
       "      <td>1208</td>\n",
       "      <td>1212</td>\n",
       "      <td>1411</td>\n",
       "      <td>8</td>\n",
       "      <td>2</td>\n",
       "      <td>15</td>\n",
       "      <td>1</td>\n",
       "      <td>1</td>\n",
       "      <td>0</td>\n",
       "      <td>1</td>\n",
       "    </tr>\n",
       "  </tbody>\n",
       "</table>\n",
       "<p>5 rows × 21 columns</p>\n",
       "</div>"
      ],
      "text/plain": [
       "   battery_power  blue  clock_speed  dual_sim  fc  four_g  int_memory  m_dep  \\\n",
       "0            842     0          2.2         0   1       0           7    0.6   \n",
       "1           1021     1          0.5         1   0       1          53    0.7   \n",
       "2            563     1          0.5         1   2       1          41    0.9   \n",
       "3            615     1          2.5         0   0       0          10    0.8   \n",
       "4           1821     1          1.2         0  13       1          44    0.6   \n",
       "\n",
       "   mobile_wt  n_cores  ...  px_height  px_width   ram  sc_h  sc_w  talk_time  \\\n",
       "0        188        2  ...         20       756  2549     9     7         19   \n",
       "1        136        3  ...        905      1988  2631    17     3          7   \n",
       "2        145        5  ...       1263      1716  2603    11     2          9   \n",
       "3        131        6  ...       1216      1786  2769    16     8         11   \n",
       "4        141        2  ...       1208      1212  1411     8     2         15   \n",
       "\n",
       "   three_g  touch_screen  wifi  price_range  \n",
       "0        0             0     1            1  \n",
       "1        1             1     0            2  \n",
       "2        1             1     0            2  \n",
       "3        1             0     0            2  \n",
       "4        1             1     0            1  \n",
       "\n",
       "[5 rows x 21 columns]"
      ]
     },
     "execution_count": 4,
     "metadata": {},
     "output_type": "execute_result"
    }
   ],
   "source": [
    "df_train.head()"
   ]
  },
  {
   "cell_type": "code",
   "execution_count": 5,
   "metadata": {},
   "outputs": [
    {
     "data": {
      "text/html": [
       "<div>\n",
       "<style scoped>\n",
       "    .dataframe tbody tr th:only-of-type {\n",
       "        vertical-align: middle;\n",
       "    }\n",
       "\n",
       "    .dataframe tbody tr th {\n",
       "        vertical-align: top;\n",
       "    }\n",
       "\n",
       "    .dataframe thead th {\n",
       "        text-align: right;\n",
       "    }\n",
       "</style>\n",
       "<table border=\"1\" class=\"dataframe\">\n",
       "  <thead>\n",
       "    <tr style=\"text-align: right;\">\n",
       "      <th></th>\n",
       "      <th>count</th>\n",
       "      <th>mean</th>\n",
       "      <th>std</th>\n",
       "      <th>min</th>\n",
       "      <th>25%</th>\n",
       "      <th>50%</th>\n",
       "      <th>75%</th>\n",
       "      <th>max</th>\n",
       "    </tr>\n",
       "  </thead>\n",
       "  <tbody>\n",
       "    <tr>\n",
       "      <th>battery_power</th>\n",
       "      <td>2000.0</td>\n",
       "      <td>1238.51850</td>\n",
       "      <td>439.418206</td>\n",
       "      <td>501.0</td>\n",
       "      <td>851.75</td>\n",
       "      <td>1226.0</td>\n",
       "      <td>1615.25</td>\n",
       "      <td>1998.0</td>\n",
       "    </tr>\n",
       "    <tr>\n",
       "      <th>blue</th>\n",
       "      <td>2000.0</td>\n",
       "      <td>0.49500</td>\n",
       "      <td>0.500100</td>\n",
       "      <td>0.0</td>\n",
       "      <td>0.00</td>\n",
       "      <td>0.0</td>\n",
       "      <td>1.00</td>\n",
       "      <td>1.0</td>\n",
       "    </tr>\n",
       "    <tr>\n",
       "      <th>clock_speed</th>\n",
       "      <td>2000.0</td>\n",
       "      <td>1.52225</td>\n",
       "      <td>0.816004</td>\n",
       "      <td>0.5</td>\n",
       "      <td>0.70</td>\n",
       "      <td>1.5</td>\n",
       "      <td>2.20</td>\n",
       "      <td>3.0</td>\n",
       "    </tr>\n",
       "    <tr>\n",
       "      <th>dual_sim</th>\n",
       "      <td>2000.0</td>\n",
       "      <td>0.50950</td>\n",
       "      <td>0.500035</td>\n",
       "      <td>0.0</td>\n",
       "      <td>0.00</td>\n",
       "      <td>1.0</td>\n",
       "      <td>1.00</td>\n",
       "      <td>1.0</td>\n",
       "    </tr>\n",
       "    <tr>\n",
       "      <th>fc</th>\n",
       "      <td>2000.0</td>\n",
       "      <td>4.30950</td>\n",
       "      <td>4.341444</td>\n",
       "      <td>0.0</td>\n",
       "      <td>1.00</td>\n",
       "      <td>3.0</td>\n",
       "      <td>7.00</td>\n",
       "      <td>19.0</td>\n",
       "    </tr>\n",
       "    <tr>\n",
       "      <th>four_g</th>\n",
       "      <td>2000.0</td>\n",
       "      <td>0.52150</td>\n",
       "      <td>0.499662</td>\n",
       "      <td>0.0</td>\n",
       "      <td>0.00</td>\n",
       "      <td>1.0</td>\n",
       "      <td>1.00</td>\n",
       "      <td>1.0</td>\n",
       "    </tr>\n",
       "    <tr>\n",
       "      <th>int_memory</th>\n",
       "      <td>2000.0</td>\n",
       "      <td>32.04650</td>\n",
       "      <td>18.145715</td>\n",
       "      <td>2.0</td>\n",
       "      <td>16.00</td>\n",
       "      <td>32.0</td>\n",
       "      <td>48.00</td>\n",
       "      <td>64.0</td>\n",
       "    </tr>\n",
       "    <tr>\n",
       "      <th>m_dep</th>\n",
       "      <td>2000.0</td>\n",
       "      <td>0.50175</td>\n",
       "      <td>0.288416</td>\n",
       "      <td>0.1</td>\n",
       "      <td>0.20</td>\n",
       "      <td>0.5</td>\n",
       "      <td>0.80</td>\n",
       "      <td>1.0</td>\n",
       "    </tr>\n",
       "    <tr>\n",
       "      <th>mobile_wt</th>\n",
       "      <td>2000.0</td>\n",
       "      <td>140.24900</td>\n",
       "      <td>35.399655</td>\n",
       "      <td>80.0</td>\n",
       "      <td>109.00</td>\n",
       "      <td>141.0</td>\n",
       "      <td>170.00</td>\n",
       "      <td>200.0</td>\n",
       "    </tr>\n",
       "    <tr>\n",
       "      <th>n_cores</th>\n",
       "      <td>2000.0</td>\n",
       "      <td>4.52050</td>\n",
       "      <td>2.287837</td>\n",
       "      <td>1.0</td>\n",
       "      <td>3.00</td>\n",
       "      <td>4.0</td>\n",
       "      <td>7.00</td>\n",
       "      <td>8.0</td>\n",
       "    </tr>\n",
       "    <tr>\n",
       "      <th>pc</th>\n",
       "      <td>2000.0</td>\n",
       "      <td>9.91650</td>\n",
       "      <td>6.064315</td>\n",
       "      <td>0.0</td>\n",
       "      <td>5.00</td>\n",
       "      <td>10.0</td>\n",
       "      <td>15.00</td>\n",
       "      <td>20.0</td>\n",
       "    </tr>\n",
       "    <tr>\n",
       "      <th>px_height</th>\n",
       "      <td>2000.0</td>\n",
       "      <td>645.10800</td>\n",
       "      <td>443.780811</td>\n",
       "      <td>0.0</td>\n",
       "      <td>282.75</td>\n",
       "      <td>564.0</td>\n",
       "      <td>947.25</td>\n",
       "      <td>1960.0</td>\n",
       "    </tr>\n",
       "    <tr>\n",
       "      <th>px_width</th>\n",
       "      <td>2000.0</td>\n",
       "      <td>1251.51550</td>\n",
       "      <td>432.199447</td>\n",
       "      <td>500.0</td>\n",
       "      <td>874.75</td>\n",
       "      <td>1247.0</td>\n",
       "      <td>1633.00</td>\n",
       "      <td>1998.0</td>\n",
       "    </tr>\n",
       "    <tr>\n",
       "      <th>ram</th>\n",
       "      <td>2000.0</td>\n",
       "      <td>2124.21300</td>\n",
       "      <td>1084.732044</td>\n",
       "      <td>256.0</td>\n",
       "      <td>1207.50</td>\n",
       "      <td>2146.5</td>\n",
       "      <td>3064.50</td>\n",
       "      <td>3998.0</td>\n",
       "    </tr>\n",
       "    <tr>\n",
       "      <th>sc_h</th>\n",
       "      <td>2000.0</td>\n",
       "      <td>12.30650</td>\n",
       "      <td>4.213245</td>\n",
       "      <td>5.0</td>\n",
       "      <td>9.00</td>\n",
       "      <td>12.0</td>\n",
       "      <td>16.00</td>\n",
       "      <td>19.0</td>\n",
       "    </tr>\n",
       "    <tr>\n",
       "      <th>sc_w</th>\n",
       "      <td>2000.0</td>\n",
       "      <td>5.76700</td>\n",
       "      <td>4.356398</td>\n",
       "      <td>0.0</td>\n",
       "      <td>2.00</td>\n",
       "      <td>5.0</td>\n",
       "      <td>9.00</td>\n",
       "      <td>18.0</td>\n",
       "    </tr>\n",
       "    <tr>\n",
       "      <th>talk_time</th>\n",
       "      <td>2000.0</td>\n",
       "      <td>11.01100</td>\n",
       "      <td>5.463955</td>\n",
       "      <td>2.0</td>\n",
       "      <td>6.00</td>\n",
       "      <td>11.0</td>\n",
       "      <td>16.00</td>\n",
       "      <td>20.0</td>\n",
       "    </tr>\n",
       "    <tr>\n",
       "      <th>three_g</th>\n",
       "      <td>2000.0</td>\n",
       "      <td>0.76150</td>\n",
       "      <td>0.426273</td>\n",
       "      <td>0.0</td>\n",
       "      <td>1.00</td>\n",
       "      <td>1.0</td>\n",
       "      <td>1.00</td>\n",
       "      <td>1.0</td>\n",
       "    </tr>\n",
       "    <tr>\n",
       "      <th>touch_screen</th>\n",
       "      <td>2000.0</td>\n",
       "      <td>0.50300</td>\n",
       "      <td>0.500116</td>\n",
       "      <td>0.0</td>\n",
       "      <td>0.00</td>\n",
       "      <td>1.0</td>\n",
       "      <td>1.00</td>\n",
       "      <td>1.0</td>\n",
       "    </tr>\n",
       "    <tr>\n",
       "      <th>wifi</th>\n",
       "      <td>2000.0</td>\n",
       "      <td>0.50700</td>\n",
       "      <td>0.500076</td>\n",
       "      <td>0.0</td>\n",
       "      <td>0.00</td>\n",
       "      <td>1.0</td>\n",
       "      <td>1.00</td>\n",
       "      <td>1.0</td>\n",
       "    </tr>\n",
       "    <tr>\n",
       "      <th>price_range</th>\n",
       "      <td>2000.0</td>\n",
       "      <td>1.50000</td>\n",
       "      <td>1.118314</td>\n",
       "      <td>0.0</td>\n",
       "      <td>0.75</td>\n",
       "      <td>1.5</td>\n",
       "      <td>2.25</td>\n",
       "      <td>3.0</td>\n",
       "    </tr>\n",
       "  </tbody>\n",
       "</table>\n",
       "</div>"
      ],
      "text/plain": [
       "                count        mean          std    min      25%     50%  \\\n",
       "battery_power  2000.0  1238.51850   439.418206  501.0   851.75  1226.0   \n",
       "blue           2000.0     0.49500     0.500100    0.0     0.00     0.0   \n",
       "clock_speed    2000.0     1.52225     0.816004    0.5     0.70     1.5   \n",
       "dual_sim       2000.0     0.50950     0.500035    0.0     0.00     1.0   \n",
       "fc             2000.0     4.30950     4.341444    0.0     1.00     3.0   \n",
       "four_g         2000.0     0.52150     0.499662    0.0     0.00     1.0   \n",
       "int_memory     2000.0    32.04650    18.145715    2.0    16.00    32.0   \n",
       "m_dep          2000.0     0.50175     0.288416    0.1     0.20     0.5   \n",
       "mobile_wt      2000.0   140.24900    35.399655   80.0   109.00   141.0   \n",
       "n_cores        2000.0     4.52050     2.287837    1.0     3.00     4.0   \n",
       "pc             2000.0     9.91650     6.064315    0.0     5.00    10.0   \n",
       "px_height      2000.0   645.10800   443.780811    0.0   282.75   564.0   \n",
       "px_width       2000.0  1251.51550   432.199447  500.0   874.75  1247.0   \n",
       "ram            2000.0  2124.21300  1084.732044  256.0  1207.50  2146.5   \n",
       "sc_h           2000.0    12.30650     4.213245    5.0     9.00    12.0   \n",
       "sc_w           2000.0     5.76700     4.356398    0.0     2.00     5.0   \n",
       "talk_time      2000.0    11.01100     5.463955    2.0     6.00    11.0   \n",
       "three_g        2000.0     0.76150     0.426273    0.0     1.00     1.0   \n",
       "touch_screen   2000.0     0.50300     0.500116    0.0     0.00     1.0   \n",
       "wifi           2000.0     0.50700     0.500076    0.0     0.00     1.0   \n",
       "price_range    2000.0     1.50000     1.118314    0.0     0.75     1.5   \n",
       "\n",
       "                   75%     max  \n",
       "battery_power  1615.25  1998.0  \n",
       "blue              1.00     1.0  \n",
       "clock_speed       2.20     3.0  \n",
       "dual_sim          1.00     1.0  \n",
       "fc                7.00    19.0  \n",
       "four_g            1.00     1.0  \n",
       "int_memory       48.00    64.0  \n",
       "m_dep             0.80     1.0  \n",
       "mobile_wt       170.00   200.0  \n",
       "n_cores           7.00     8.0  \n",
       "pc               15.00    20.0  \n",
       "px_height       947.25  1960.0  \n",
       "px_width       1633.00  1998.0  \n",
       "ram            3064.50  3998.0  \n",
       "sc_h             16.00    19.0  \n",
       "sc_w              9.00    18.0  \n",
       "talk_time        16.00    20.0  \n",
       "three_g           1.00     1.0  \n",
       "touch_screen      1.00     1.0  \n",
       "wifi              1.00     1.0  \n",
       "price_range       2.25     3.0  "
      ]
     },
     "execution_count": 5,
     "metadata": {},
     "output_type": "execute_result"
    }
   ],
   "source": [
    "df_train.describe().T"
   ]
  },
  {
   "cell_type": "markdown",
   "metadata": {},
   "source": [
    "**Observations:-**\n",
    "\n",
    "1.2000mah is the max Battery Power\n",
    "\n",
    "2.Dual sim is available for 75% of the phones\n",
    "\n",
    "3.50% of the mobile phones has 32gb of memory\n",
    "\n",
    "4.most of the mobile phones are screen touch enabled and supports 3g , 4g and are wifi enabled"
   ]
  },
  {
   "cell_type": "code",
   "execution_count": 6,
   "metadata": {},
   "outputs": [
    {
     "data": {
      "text/plain": [
       "battery_power      int64\n",
       "blue               int64\n",
       "clock_speed      float64\n",
       "dual_sim           int64\n",
       "fc                 int64\n",
       "four_g             int64\n",
       "int_memory         int64\n",
       "m_dep            float64\n",
       "mobile_wt          int64\n",
       "n_cores            int64\n",
       "pc                 int64\n",
       "px_height          int64\n",
       "px_width           int64\n",
       "ram                int64\n",
       "sc_h               int64\n",
       "sc_w               int64\n",
       "talk_time          int64\n",
       "three_g            int64\n",
       "touch_screen       int64\n",
       "wifi               int64\n",
       "price_range        int64\n",
       "dtype: object"
      ]
     },
     "execution_count": 6,
     "metadata": {},
     "output_type": "execute_result"
    }
   ],
   "source": [
    "df_train.dtypes"
   ]
  },
  {
   "cell_type": "code",
   "execution_count": 7,
   "metadata": {},
   "outputs": [
    {
     "data": {
      "text/plain": [
       "battery_power    0\n",
       "blue             0\n",
       "clock_speed      0\n",
       "dual_sim         0\n",
       "fc               0\n",
       "four_g           0\n",
       "int_memory       0\n",
       "m_dep            0\n",
       "mobile_wt        0\n",
       "n_cores          0\n",
       "pc               0\n",
       "px_height        0\n",
       "px_width         0\n",
       "ram              0\n",
       "sc_h             0\n",
       "sc_w             0\n",
       "talk_time        0\n",
       "three_g          0\n",
       "touch_screen     0\n",
       "wifi             0\n",
       "price_range      0\n",
       "dtype: int64"
      ]
     },
     "execution_count": 7,
     "metadata": {},
     "output_type": "execute_result"
    }
   ],
   "source": [
    "df_train.isnull().sum()"
   ]
  },
  {
   "cell_type": "markdown",
   "metadata": {},
   "source": [
    "There are no null values in the dataset"
   ]
  },
  {
   "cell_type": "code",
   "execution_count": 8,
   "metadata": {},
   "outputs": [
    {
     "name": "stdout",
     "output_type": "stream",
     "text": [
      "<class 'pandas.core.frame.DataFrame'>\n",
      "RangeIndex: 2000 entries, 0 to 1999\n",
      "Data columns (total 21 columns):\n",
      " #   Column         Non-Null Count  Dtype  \n",
      "---  ------         --------------  -----  \n",
      " 0   battery_power  2000 non-null   int64  \n",
      " 1   blue           2000 non-null   int64  \n",
      " 2   clock_speed    2000 non-null   float64\n",
      " 3   dual_sim       2000 non-null   int64  \n",
      " 4   fc             2000 non-null   int64  \n",
      " 5   four_g         2000 non-null   int64  \n",
      " 6   int_memory     2000 non-null   int64  \n",
      " 7   m_dep          2000 non-null   float64\n",
      " 8   mobile_wt      2000 non-null   int64  \n",
      " 9   n_cores        2000 non-null   int64  \n",
      " 10  pc             2000 non-null   int64  \n",
      " 11  px_height      2000 non-null   int64  \n",
      " 12  px_width       2000 non-null   int64  \n",
      " 13  ram            2000 non-null   int64  \n",
      " 14  sc_h           2000 non-null   int64  \n",
      " 15  sc_w           2000 non-null   int64  \n",
      " 16  talk_time      2000 non-null   int64  \n",
      " 17  three_g        2000 non-null   int64  \n",
      " 18  touch_screen   2000 non-null   int64  \n",
      " 19  wifi           2000 non-null   int64  \n",
      " 20  price_range    2000 non-null   int64  \n",
      "dtypes: float64(2), int64(19)\n",
      "memory usage: 328.2 KB\n"
     ]
    }
   ],
   "source": [
    "df_train.info() "
   ]
  },
  {
   "cell_type": "markdown",
   "metadata": {},
   "source": [
    "**Categorical columns in the dataset**"
   ]
  },
  {
   "cell_type": "code",
   "execution_count": 9,
   "metadata": {},
   "outputs": [
    {
     "data": {
      "text/plain": [
       "Index([], dtype='object')"
      ]
     },
     "execution_count": 9,
     "metadata": {},
     "output_type": "execute_result"
    }
   ],
   "source": [
    "df_train.select_dtypes(exclude=['int64', 'float64']).columns"
   ]
  },
  {
   "cell_type": "markdown",
   "metadata": {},
   "source": [
    "**Numerical columns in the dataset**"
   ]
  },
  {
   "cell_type": "code",
   "execution_count": 10,
   "metadata": {},
   "outputs": [
    {
     "data": {
      "text/plain": [
       "Index(['battery_power', 'blue', 'clock_speed', 'dual_sim', 'fc', 'four_g',\n",
       "       'int_memory', 'm_dep', 'mobile_wt', 'n_cores', 'pc', 'px_height',\n",
       "       'px_width', 'ram', 'sc_h', 'sc_w', 'talk_time', 'three_g',\n",
       "       'touch_screen', 'wifi', 'price_range'],\n",
       "      dtype='object')"
      ]
     },
     "execution_count": 10,
     "metadata": {},
     "output_type": "execute_result"
    }
   ],
   "source": [
    "df_train.select_dtypes(include=['int64', 'float64']).columns"
   ]
  },
  {
   "cell_type": "markdown",
   "metadata": {},
   "source": [
    "**Size of the target variable**"
   ]
  },
  {
   "cell_type": "code",
   "execution_count": 11,
   "metadata": {},
   "outputs": [
    {
     "data": {
      "text/plain": [
       "price_range\n",
       "0    500\n",
       "1    500\n",
       "2    500\n",
       "3    500\n",
       "dtype: int64"
      ]
     },
     "execution_count": 11,
     "metadata": {},
     "output_type": "execute_result"
    }
   ],
   "source": [
    "df_train.groupby('price_range').size()"
   ]
  },
  {
   "cell_type": "markdown",
   "metadata": {},
   "source": [
    "## 2.Visualization:"
   ]
  },
  {
   "cell_type": "markdown",
   "metadata": {},
   "source": [
    "**Correlation**"
   ]
  },
  {
   "cell_type": "code",
   "execution_count": 12,
   "metadata": {},
   "outputs": [
    {
     "data": {
      "text/html": [
       "<div>\n",
       "<style scoped>\n",
       "    .dataframe tbody tr th:only-of-type {\n",
       "        vertical-align: middle;\n",
       "    }\n",
       "\n",
       "    .dataframe tbody tr th {\n",
       "        vertical-align: top;\n",
       "    }\n",
       "\n",
       "    .dataframe thead th {\n",
       "        text-align: right;\n",
       "    }\n",
       "</style>\n",
       "<table border=\"1\" class=\"dataframe\">\n",
       "  <thead>\n",
       "    <tr style=\"text-align: right;\">\n",
       "      <th></th>\n",
       "      <th>battery_power</th>\n",
       "      <th>blue</th>\n",
       "      <th>clock_speed</th>\n",
       "      <th>dual_sim</th>\n",
       "      <th>fc</th>\n",
       "      <th>four_g</th>\n",
       "      <th>int_memory</th>\n",
       "      <th>m_dep</th>\n",
       "      <th>mobile_wt</th>\n",
       "      <th>n_cores</th>\n",
       "      <th>...</th>\n",
       "      <th>px_height</th>\n",
       "      <th>px_width</th>\n",
       "      <th>ram</th>\n",
       "      <th>sc_h</th>\n",
       "      <th>sc_w</th>\n",
       "      <th>talk_time</th>\n",
       "      <th>three_g</th>\n",
       "      <th>touch_screen</th>\n",
       "      <th>wifi</th>\n",
       "      <th>price_range</th>\n",
       "    </tr>\n",
       "  </thead>\n",
       "  <tbody>\n",
       "    <tr>\n",
       "      <th>battery_power</th>\n",
       "      <td>1.000000</td>\n",
       "      <td>0.011252</td>\n",
       "      <td>0.011482</td>\n",
       "      <td>-0.041847</td>\n",
       "      <td>0.033334</td>\n",
       "      <td>0.015665</td>\n",
       "      <td>-0.004004</td>\n",
       "      <td>0.034085</td>\n",
       "      <td>0.001844</td>\n",
       "      <td>-0.029727</td>\n",
       "      <td>...</td>\n",
       "      <td>0.014901</td>\n",
       "      <td>-0.008402</td>\n",
       "      <td>-0.000653</td>\n",
       "      <td>-0.029959</td>\n",
       "      <td>-0.021421</td>\n",
       "      <td>0.052510</td>\n",
       "      <td>0.011522</td>\n",
       "      <td>-0.010516</td>\n",
       "      <td>-0.008343</td>\n",
       "      <td>0.200723</td>\n",
       "    </tr>\n",
       "    <tr>\n",
       "      <th>blue</th>\n",
       "      <td>0.011252</td>\n",
       "      <td>1.000000</td>\n",
       "      <td>0.021419</td>\n",
       "      <td>0.035198</td>\n",
       "      <td>0.003593</td>\n",
       "      <td>0.013443</td>\n",
       "      <td>0.041177</td>\n",
       "      <td>0.004049</td>\n",
       "      <td>-0.008605</td>\n",
       "      <td>0.036161</td>\n",
       "      <td>...</td>\n",
       "      <td>-0.006872</td>\n",
       "      <td>-0.041533</td>\n",
       "      <td>0.026351</td>\n",
       "      <td>-0.002952</td>\n",
       "      <td>0.000613</td>\n",
       "      <td>0.013934</td>\n",
       "      <td>-0.030236</td>\n",
       "      <td>0.010061</td>\n",
       "      <td>-0.021863</td>\n",
       "      <td>0.020573</td>\n",
       "    </tr>\n",
       "    <tr>\n",
       "      <th>clock_speed</th>\n",
       "      <td>0.011482</td>\n",
       "      <td>0.021419</td>\n",
       "      <td>1.000000</td>\n",
       "      <td>-0.001315</td>\n",
       "      <td>-0.000434</td>\n",
       "      <td>-0.043073</td>\n",
       "      <td>0.006545</td>\n",
       "      <td>-0.014364</td>\n",
       "      <td>0.012350</td>\n",
       "      <td>-0.005724</td>\n",
       "      <td>...</td>\n",
       "      <td>-0.014523</td>\n",
       "      <td>-0.009476</td>\n",
       "      <td>0.003443</td>\n",
       "      <td>-0.029078</td>\n",
       "      <td>-0.007378</td>\n",
       "      <td>-0.011432</td>\n",
       "      <td>-0.046433</td>\n",
       "      <td>0.019756</td>\n",
       "      <td>-0.024471</td>\n",
       "      <td>-0.006606</td>\n",
       "    </tr>\n",
       "    <tr>\n",
       "      <th>dual_sim</th>\n",
       "      <td>-0.041847</td>\n",
       "      <td>0.035198</td>\n",
       "      <td>-0.001315</td>\n",
       "      <td>1.000000</td>\n",
       "      <td>-0.029123</td>\n",
       "      <td>0.003187</td>\n",
       "      <td>-0.015679</td>\n",
       "      <td>-0.022142</td>\n",
       "      <td>-0.008979</td>\n",
       "      <td>-0.024658</td>\n",
       "      <td>...</td>\n",
       "      <td>-0.020875</td>\n",
       "      <td>0.014291</td>\n",
       "      <td>0.041072</td>\n",
       "      <td>-0.011949</td>\n",
       "      <td>-0.016666</td>\n",
       "      <td>-0.039404</td>\n",
       "      <td>-0.014008</td>\n",
       "      <td>-0.017117</td>\n",
       "      <td>0.022740</td>\n",
       "      <td>0.017444</td>\n",
       "    </tr>\n",
       "    <tr>\n",
       "      <th>fc</th>\n",
       "      <td>0.033334</td>\n",
       "      <td>0.003593</td>\n",
       "      <td>-0.000434</td>\n",
       "      <td>-0.029123</td>\n",
       "      <td>1.000000</td>\n",
       "      <td>-0.016560</td>\n",
       "      <td>-0.029133</td>\n",
       "      <td>-0.001791</td>\n",
       "      <td>0.023618</td>\n",
       "      <td>-0.013356</td>\n",
       "      <td>...</td>\n",
       "      <td>-0.009990</td>\n",
       "      <td>-0.005176</td>\n",
       "      <td>0.015099</td>\n",
       "      <td>-0.011014</td>\n",
       "      <td>-0.012373</td>\n",
       "      <td>-0.006829</td>\n",
       "      <td>0.001793</td>\n",
       "      <td>-0.014828</td>\n",
       "      <td>0.020085</td>\n",
       "      <td>0.021998</td>\n",
       "    </tr>\n",
       "    <tr>\n",
       "      <th>four_g</th>\n",
       "      <td>0.015665</td>\n",
       "      <td>0.013443</td>\n",
       "      <td>-0.043073</td>\n",
       "      <td>0.003187</td>\n",
       "      <td>-0.016560</td>\n",
       "      <td>1.000000</td>\n",
       "      <td>0.008690</td>\n",
       "      <td>-0.001823</td>\n",
       "      <td>-0.016537</td>\n",
       "      <td>-0.029706</td>\n",
       "      <td>...</td>\n",
       "      <td>-0.019236</td>\n",
       "      <td>0.007448</td>\n",
       "      <td>0.007313</td>\n",
       "      <td>0.027166</td>\n",
       "      <td>0.037005</td>\n",
       "      <td>-0.046628</td>\n",
       "      <td>0.584246</td>\n",
       "      <td>0.016758</td>\n",
       "      <td>-0.017620</td>\n",
       "      <td>0.014772</td>\n",
       "    </tr>\n",
       "    <tr>\n",
       "      <th>int_memory</th>\n",
       "      <td>-0.004004</td>\n",
       "      <td>0.041177</td>\n",
       "      <td>0.006545</td>\n",
       "      <td>-0.015679</td>\n",
       "      <td>-0.029133</td>\n",
       "      <td>0.008690</td>\n",
       "      <td>1.000000</td>\n",
       "      <td>0.006886</td>\n",
       "      <td>-0.034214</td>\n",
       "      <td>-0.028310</td>\n",
       "      <td>...</td>\n",
       "      <td>0.010441</td>\n",
       "      <td>-0.008335</td>\n",
       "      <td>0.032813</td>\n",
       "      <td>0.037771</td>\n",
       "      <td>0.011731</td>\n",
       "      <td>-0.002790</td>\n",
       "      <td>-0.009366</td>\n",
       "      <td>-0.026999</td>\n",
       "      <td>0.006993</td>\n",
       "      <td>0.044435</td>\n",
       "    </tr>\n",
       "    <tr>\n",
       "      <th>m_dep</th>\n",
       "      <td>0.034085</td>\n",
       "      <td>0.004049</td>\n",
       "      <td>-0.014364</td>\n",
       "      <td>-0.022142</td>\n",
       "      <td>-0.001791</td>\n",
       "      <td>-0.001823</td>\n",
       "      <td>0.006886</td>\n",
       "      <td>1.000000</td>\n",
       "      <td>0.021756</td>\n",
       "      <td>-0.003504</td>\n",
       "      <td>...</td>\n",
       "      <td>0.025263</td>\n",
       "      <td>0.023566</td>\n",
       "      <td>-0.009434</td>\n",
       "      <td>-0.025348</td>\n",
       "      <td>-0.018388</td>\n",
       "      <td>0.017003</td>\n",
       "      <td>-0.012065</td>\n",
       "      <td>-0.002638</td>\n",
       "      <td>-0.028353</td>\n",
       "      <td>0.000853</td>\n",
       "    </tr>\n",
       "    <tr>\n",
       "      <th>mobile_wt</th>\n",
       "      <td>0.001844</td>\n",
       "      <td>-0.008605</td>\n",
       "      <td>0.012350</td>\n",
       "      <td>-0.008979</td>\n",
       "      <td>0.023618</td>\n",
       "      <td>-0.016537</td>\n",
       "      <td>-0.034214</td>\n",
       "      <td>0.021756</td>\n",
       "      <td>1.000000</td>\n",
       "      <td>-0.018989</td>\n",
       "      <td>...</td>\n",
       "      <td>0.000939</td>\n",
       "      <td>0.000090</td>\n",
       "      <td>-0.002581</td>\n",
       "      <td>-0.033855</td>\n",
       "      <td>-0.020761</td>\n",
       "      <td>0.006209</td>\n",
       "      <td>0.001551</td>\n",
       "      <td>-0.014368</td>\n",
       "      <td>-0.000409</td>\n",
       "      <td>-0.030302</td>\n",
       "    </tr>\n",
       "    <tr>\n",
       "      <th>n_cores</th>\n",
       "      <td>-0.029727</td>\n",
       "      <td>0.036161</td>\n",
       "      <td>-0.005724</td>\n",
       "      <td>-0.024658</td>\n",
       "      <td>-0.013356</td>\n",
       "      <td>-0.029706</td>\n",
       "      <td>-0.028310</td>\n",
       "      <td>-0.003504</td>\n",
       "      <td>-0.018989</td>\n",
       "      <td>1.000000</td>\n",
       "      <td>...</td>\n",
       "      <td>-0.006872</td>\n",
       "      <td>0.024480</td>\n",
       "      <td>0.004868</td>\n",
       "      <td>-0.000315</td>\n",
       "      <td>0.025826</td>\n",
       "      <td>0.013148</td>\n",
       "      <td>-0.014733</td>\n",
       "      <td>0.023774</td>\n",
       "      <td>-0.009964</td>\n",
       "      <td>0.004399</td>\n",
       "    </tr>\n",
       "    <tr>\n",
       "      <th>pc</th>\n",
       "      <td>0.031441</td>\n",
       "      <td>-0.009952</td>\n",
       "      <td>-0.005245</td>\n",
       "      <td>-0.017143</td>\n",
       "      <td>0.644595</td>\n",
       "      <td>-0.005598</td>\n",
       "      <td>-0.033273</td>\n",
       "      <td>0.026282</td>\n",
       "      <td>0.018844</td>\n",
       "      <td>-0.001193</td>\n",
       "      <td>...</td>\n",
       "      <td>-0.018465</td>\n",
       "      <td>0.004196</td>\n",
       "      <td>0.028984</td>\n",
       "      <td>0.004938</td>\n",
       "      <td>-0.023819</td>\n",
       "      <td>0.014657</td>\n",
       "      <td>-0.001322</td>\n",
       "      <td>-0.008742</td>\n",
       "      <td>0.005389</td>\n",
       "      <td>0.033599</td>\n",
       "    </tr>\n",
       "    <tr>\n",
       "      <th>px_height</th>\n",
       "      <td>0.014901</td>\n",
       "      <td>-0.006872</td>\n",
       "      <td>-0.014523</td>\n",
       "      <td>-0.020875</td>\n",
       "      <td>-0.009990</td>\n",
       "      <td>-0.019236</td>\n",
       "      <td>0.010441</td>\n",
       "      <td>0.025263</td>\n",
       "      <td>0.000939</td>\n",
       "      <td>-0.006872</td>\n",
       "      <td>...</td>\n",
       "      <td>1.000000</td>\n",
       "      <td>0.510664</td>\n",
       "      <td>-0.020352</td>\n",
       "      <td>0.059615</td>\n",
       "      <td>0.043038</td>\n",
       "      <td>-0.010645</td>\n",
       "      <td>-0.031174</td>\n",
       "      <td>0.021891</td>\n",
       "      <td>0.051824</td>\n",
       "      <td>0.148858</td>\n",
       "    </tr>\n",
       "    <tr>\n",
       "      <th>px_width</th>\n",
       "      <td>-0.008402</td>\n",
       "      <td>-0.041533</td>\n",
       "      <td>-0.009476</td>\n",
       "      <td>0.014291</td>\n",
       "      <td>-0.005176</td>\n",
       "      <td>0.007448</td>\n",
       "      <td>-0.008335</td>\n",
       "      <td>0.023566</td>\n",
       "      <td>0.000090</td>\n",
       "      <td>0.024480</td>\n",
       "      <td>...</td>\n",
       "      <td>0.510664</td>\n",
       "      <td>1.000000</td>\n",
       "      <td>0.004105</td>\n",
       "      <td>0.021599</td>\n",
       "      <td>0.034699</td>\n",
       "      <td>0.006720</td>\n",
       "      <td>0.000350</td>\n",
       "      <td>-0.001628</td>\n",
       "      <td>0.030319</td>\n",
       "      <td>0.165818</td>\n",
       "    </tr>\n",
       "    <tr>\n",
       "      <th>ram</th>\n",
       "      <td>-0.000653</td>\n",
       "      <td>0.026351</td>\n",
       "      <td>0.003443</td>\n",
       "      <td>0.041072</td>\n",
       "      <td>0.015099</td>\n",
       "      <td>0.007313</td>\n",
       "      <td>0.032813</td>\n",
       "      <td>-0.009434</td>\n",
       "      <td>-0.002581</td>\n",
       "      <td>0.004868</td>\n",
       "      <td>...</td>\n",
       "      <td>-0.020352</td>\n",
       "      <td>0.004105</td>\n",
       "      <td>1.000000</td>\n",
       "      <td>0.015996</td>\n",
       "      <td>0.035576</td>\n",
       "      <td>0.010820</td>\n",
       "      <td>0.015795</td>\n",
       "      <td>-0.030455</td>\n",
       "      <td>0.022669</td>\n",
       "      <td>0.917046</td>\n",
       "    </tr>\n",
       "    <tr>\n",
       "      <th>sc_h</th>\n",
       "      <td>-0.029959</td>\n",
       "      <td>-0.002952</td>\n",
       "      <td>-0.029078</td>\n",
       "      <td>-0.011949</td>\n",
       "      <td>-0.011014</td>\n",
       "      <td>0.027166</td>\n",
       "      <td>0.037771</td>\n",
       "      <td>-0.025348</td>\n",
       "      <td>-0.033855</td>\n",
       "      <td>-0.000315</td>\n",
       "      <td>...</td>\n",
       "      <td>0.059615</td>\n",
       "      <td>0.021599</td>\n",
       "      <td>0.015996</td>\n",
       "      <td>1.000000</td>\n",
       "      <td>0.506144</td>\n",
       "      <td>-0.017335</td>\n",
       "      <td>0.012033</td>\n",
       "      <td>-0.020023</td>\n",
       "      <td>0.025929</td>\n",
       "      <td>0.022986</td>\n",
       "    </tr>\n",
       "    <tr>\n",
       "      <th>sc_w</th>\n",
       "      <td>-0.021421</td>\n",
       "      <td>0.000613</td>\n",
       "      <td>-0.007378</td>\n",
       "      <td>-0.016666</td>\n",
       "      <td>-0.012373</td>\n",
       "      <td>0.037005</td>\n",
       "      <td>0.011731</td>\n",
       "      <td>-0.018388</td>\n",
       "      <td>-0.020761</td>\n",
       "      <td>0.025826</td>\n",
       "      <td>...</td>\n",
       "      <td>0.043038</td>\n",
       "      <td>0.034699</td>\n",
       "      <td>0.035576</td>\n",
       "      <td>0.506144</td>\n",
       "      <td>1.000000</td>\n",
       "      <td>-0.022821</td>\n",
       "      <td>0.030941</td>\n",
       "      <td>0.012720</td>\n",
       "      <td>0.035423</td>\n",
       "      <td>0.038711</td>\n",
       "    </tr>\n",
       "    <tr>\n",
       "      <th>talk_time</th>\n",
       "      <td>0.052510</td>\n",
       "      <td>0.013934</td>\n",
       "      <td>-0.011432</td>\n",
       "      <td>-0.039404</td>\n",
       "      <td>-0.006829</td>\n",
       "      <td>-0.046628</td>\n",
       "      <td>-0.002790</td>\n",
       "      <td>0.017003</td>\n",
       "      <td>0.006209</td>\n",
       "      <td>0.013148</td>\n",
       "      <td>...</td>\n",
       "      <td>-0.010645</td>\n",
       "      <td>0.006720</td>\n",
       "      <td>0.010820</td>\n",
       "      <td>-0.017335</td>\n",
       "      <td>-0.022821</td>\n",
       "      <td>1.000000</td>\n",
       "      <td>-0.042688</td>\n",
       "      <td>0.017196</td>\n",
       "      <td>-0.029504</td>\n",
       "      <td>0.021859</td>\n",
       "    </tr>\n",
       "    <tr>\n",
       "      <th>three_g</th>\n",
       "      <td>0.011522</td>\n",
       "      <td>-0.030236</td>\n",
       "      <td>-0.046433</td>\n",
       "      <td>-0.014008</td>\n",
       "      <td>0.001793</td>\n",
       "      <td>0.584246</td>\n",
       "      <td>-0.009366</td>\n",
       "      <td>-0.012065</td>\n",
       "      <td>0.001551</td>\n",
       "      <td>-0.014733</td>\n",
       "      <td>...</td>\n",
       "      <td>-0.031174</td>\n",
       "      <td>0.000350</td>\n",
       "      <td>0.015795</td>\n",
       "      <td>0.012033</td>\n",
       "      <td>0.030941</td>\n",
       "      <td>-0.042688</td>\n",
       "      <td>1.000000</td>\n",
       "      <td>0.013917</td>\n",
       "      <td>0.004316</td>\n",
       "      <td>0.023611</td>\n",
       "    </tr>\n",
       "    <tr>\n",
       "      <th>touch_screen</th>\n",
       "      <td>-0.010516</td>\n",
       "      <td>0.010061</td>\n",
       "      <td>0.019756</td>\n",
       "      <td>-0.017117</td>\n",
       "      <td>-0.014828</td>\n",
       "      <td>0.016758</td>\n",
       "      <td>-0.026999</td>\n",
       "      <td>-0.002638</td>\n",
       "      <td>-0.014368</td>\n",
       "      <td>0.023774</td>\n",
       "      <td>...</td>\n",
       "      <td>0.021891</td>\n",
       "      <td>-0.001628</td>\n",
       "      <td>-0.030455</td>\n",
       "      <td>-0.020023</td>\n",
       "      <td>0.012720</td>\n",
       "      <td>0.017196</td>\n",
       "      <td>0.013917</td>\n",
       "      <td>1.000000</td>\n",
       "      <td>0.011917</td>\n",
       "      <td>-0.030411</td>\n",
       "    </tr>\n",
       "    <tr>\n",
       "      <th>wifi</th>\n",
       "      <td>-0.008343</td>\n",
       "      <td>-0.021863</td>\n",
       "      <td>-0.024471</td>\n",
       "      <td>0.022740</td>\n",
       "      <td>0.020085</td>\n",
       "      <td>-0.017620</td>\n",
       "      <td>0.006993</td>\n",
       "      <td>-0.028353</td>\n",
       "      <td>-0.000409</td>\n",
       "      <td>-0.009964</td>\n",
       "      <td>...</td>\n",
       "      <td>0.051824</td>\n",
       "      <td>0.030319</td>\n",
       "      <td>0.022669</td>\n",
       "      <td>0.025929</td>\n",
       "      <td>0.035423</td>\n",
       "      <td>-0.029504</td>\n",
       "      <td>0.004316</td>\n",
       "      <td>0.011917</td>\n",
       "      <td>1.000000</td>\n",
       "      <td>0.018785</td>\n",
       "    </tr>\n",
       "    <tr>\n",
       "      <th>price_range</th>\n",
       "      <td>0.200723</td>\n",
       "      <td>0.020573</td>\n",
       "      <td>-0.006606</td>\n",
       "      <td>0.017444</td>\n",
       "      <td>0.021998</td>\n",
       "      <td>0.014772</td>\n",
       "      <td>0.044435</td>\n",
       "      <td>0.000853</td>\n",
       "      <td>-0.030302</td>\n",
       "      <td>0.004399</td>\n",
       "      <td>...</td>\n",
       "      <td>0.148858</td>\n",
       "      <td>0.165818</td>\n",
       "      <td>0.917046</td>\n",
       "      <td>0.022986</td>\n",
       "      <td>0.038711</td>\n",
       "      <td>0.021859</td>\n",
       "      <td>0.023611</td>\n",
       "      <td>-0.030411</td>\n",
       "      <td>0.018785</td>\n",
       "      <td>1.000000</td>\n",
       "    </tr>\n",
       "  </tbody>\n",
       "</table>\n",
       "<p>21 rows × 21 columns</p>\n",
       "</div>"
      ],
      "text/plain": [
       "               battery_power      blue  clock_speed  dual_sim        fc  \\\n",
       "battery_power       1.000000  0.011252     0.011482 -0.041847  0.033334   \n",
       "blue                0.011252  1.000000     0.021419  0.035198  0.003593   \n",
       "clock_speed         0.011482  0.021419     1.000000 -0.001315 -0.000434   \n",
       "dual_sim           -0.041847  0.035198    -0.001315  1.000000 -0.029123   \n",
       "fc                  0.033334  0.003593    -0.000434 -0.029123  1.000000   \n",
       "four_g              0.015665  0.013443    -0.043073  0.003187 -0.016560   \n",
       "int_memory         -0.004004  0.041177     0.006545 -0.015679 -0.029133   \n",
       "m_dep               0.034085  0.004049    -0.014364 -0.022142 -0.001791   \n",
       "mobile_wt           0.001844 -0.008605     0.012350 -0.008979  0.023618   \n",
       "n_cores            -0.029727  0.036161    -0.005724 -0.024658 -0.013356   \n",
       "pc                  0.031441 -0.009952    -0.005245 -0.017143  0.644595   \n",
       "px_height           0.014901 -0.006872    -0.014523 -0.020875 -0.009990   \n",
       "px_width           -0.008402 -0.041533    -0.009476  0.014291 -0.005176   \n",
       "ram                -0.000653  0.026351     0.003443  0.041072  0.015099   \n",
       "sc_h               -0.029959 -0.002952    -0.029078 -0.011949 -0.011014   \n",
       "sc_w               -0.021421  0.000613    -0.007378 -0.016666 -0.012373   \n",
       "talk_time           0.052510  0.013934    -0.011432 -0.039404 -0.006829   \n",
       "three_g             0.011522 -0.030236    -0.046433 -0.014008  0.001793   \n",
       "touch_screen       -0.010516  0.010061     0.019756 -0.017117 -0.014828   \n",
       "wifi               -0.008343 -0.021863    -0.024471  0.022740  0.020085   \n",
       "price_range         0.200723  0.020573    -0.006606  0.017444  0.021998   \n",
       "\n",
       "                 four_g  int_memory     m_dep  mobile_wt   n_cores  ...  \\\n",
       "battery_power  0.015665   -0.004004  0.034085   0.001844 -0.029727  ...   \n",
       "blue           0.013443    0.041177  0.004049  -0.008605  0.036161  ...   \n",
       "clock_speed   -0.043073    0.006545 -0.014364   0.012350 -0.005724  ...   \n",
       "dual_sim       0.003187   -0.015679 -0.022142  -0.008979 -0.024658  ...   \n",
       "fc            -0.016560   -0.029133 -0.001791   0.023618 -0.013356  ...   \n",
       "four_g         1.000000    0.008690 -0.001823  -0.016537 -0.029706  ...   \n",
       "int_memory     0.008690    1.000000  0.006886  -0.034214 -0.028310  ...   \n",
       "m_dep         -0.001823    0.006886  1.000000   0.021756 -0.003504  ...   \n",
       "mobile_wt     -0.016537   -0.034214  0.021756   1.000000 -0.018989  ...   \n",
       "n_cores       -0.029706   -0.028310 -0.003504  -0.018989  1.000000  ...   \n",
       "pc            -0.005598   -0.033273  0.026282   0.018844 -0.001193  ...   \n",
       "px_height     -0.019236    0.010441  0.025263   0.000939 -0.006872  ...   \n",
       "px_width       0.007448   -0.008335  0.023566   0.000090  0.024480  ...   \n",
       "ram            0.007313    0.032813 -0.009434  -0.002581  0.004868  ...   \n",
       "sc_h           0.027166    0.037771 -0.025348  -0.033855 -0.000315  ...   \n",
       "sc_w           0.037005    0.011731 -0.018388  -0.020761  0.025826  ...   \n",
       "talk_time     -0.046628   -0.002790  0.017003   0.006209  0.013148  ...   \n",
       "three_g        0.584246   -0.009366 -0.012065   0.001551 -0.014733  ...   \n",
       "touch_screen   0.016758   -0.026999 -0.002638  -0.014368  0.023774  ...   \n",
       "wifi          -0.017620    0.006993 -0.028353  -0.000409 -0.009964  ...   \n",
       "price_range    0.014772    0.044435  0.000853  -0.030302  0.004399  ...   \n",
       "\n",
       "               px_height  px_width       ram      sc_h      sc_w  talk_time  \\\n",
       "battery_power   0.014901 -0.008402 -0.000653 -0.029959 -0.021421   0.052510   \n",
       "blue           -0.006872 -0.041533  0.026351 -0.002952  0.000613   0.013934   \n",
       "clock_speed    -0.014523 -0.009476  0.003443 -0.029078 -0.007378  -0.011432   \n",
       "dual_sim       -0.020875  0.014291  0.041072 -0.011949 -0.016666  -0.039404   \n",
       "fc             -0.009990 -0.005176  0.015099 -0.011014 -0.012373  -0.006829   \n",
       "four_g         -0.019236  0.007448  0.007313  0.027166  0.037005  -0.046628   \n",
       "int_memory      0.010441 -0.008335  0.032813  0.037771  0.011731  -0.002790   \n",
       "m_dep           0.025263  0.023566 -0.009434 -0.025348 -0.018388   0.017003   \n",
       "mobile_wt       0.000939  0.000090 -0.002581 -0.033855 -0.020761   0.006209   \n",
       "n_cores        -0.006872  0.024480  0.004868 -0.000315  0.025826   0.013148   \n",
       "pc             -0.018465  0.004196  0.028984  0.004938 -0.023819   0.014657   \n",
       "px_height       1.000000  0.510664 -0.020352  0.059615  0.043038  -0.010645   \n",
       "px_width        0.510664  1.000000  0.004105  0.021599  0.034699   0.006720   \n",
       "ram            -0.020352  0.004105  1.000000  0.015996  0.035576   0.010820   \n",
       "sc_h            0.059615  0.021599  0.015996  1.000000  0.506144  -0.017335   \n",
       "sc_w            0.043038  0.034699  0.035576  0.506144  1.000000  -0.022821   \n",
       "talk_time      -0.010645  0.006720  0.010820 -0.017335 -0.022821   1.000000   \n",
       "three_g        -0.031174  0.000350  0.015795  0.012033  0.030941  -0.042688   \n",
       "touch_screen    0.021891 -0.001628 -0.030455 -0.020023  0.012720   0.017196   \n",
       "wifi            0.051824  0.030319  0.022669  0.025929  0.035423  -0.029504   \n",
       "price_range     0.148858  0.165818  0.917046  0.022986  0.038711   0.021859   \n",
       "\n",
       "                three_g  touch_screen      wifi  price_range  \n",
       "battery_power  0.011522     -0.010516 -0.008343     0.200723  \n",
       "blue          -0.030236      0.010061 -0.021863     0.020573  \n",
       "clock_speed   -0.046433      0.019756 -0.024471    -0.006606  \n",
       "dual_sim      -0.014008     -0.017117  0.022740     0.017444  \n",
       "fc             0.001793     -0.014828  0.020085     0.021998  \n",
       "four_g         0.584246      0.016758 -0.017620     0.014772  \n",
       "int_memory    -0.009366     -0.026999  0.006993     0.044435  \n",
       "m_dep         -0.012065     -0.002638 -0.028353     0.000853  \n",
       "mobile_wt      0.001551     -0.014368 -0.000409    -0.030302  \n",
       "n_cores       -0.014733      0.023774 -0.009964     0.004399  \n",
       "pc            -0.001322     -0.008742  0.005389     0.033599  \n",
       "px_height     -0.031174      0.021891  0.051824     0.148858  \n",
       "px_width       0.000350     -0.001628  0.030319     0.165818  \n",
       "ram            0.015795     -0.030455  0.022669     0.917046  \n",
       "sc_h           0.012033     -0.020023  0.025929     0.022986  \n",
       "sc_w           0.030941      0.012720  0.035423     0.038711  \n",
       "talk_time     -0.042688      0.017196 -0.029504     0.021859  \n",
       "three_g        1.000000      0.013917  0.004316     0.023611  \n",
       "touch_screen   0.013917      1.000000  0.011917    -0.030411  \n",
       "wifi           0.004316      0.011917  1.000000     0.018785  \n",
       "price_range    0.023611     -0.030411  0.018785     1.000000  \n",
       "\n",
       "[21 rows x 21 columns]"
      ]
     },
     "execution_count": 12,
     "metadata": {},
     "output_type": "execute_result"
    }
   ],
   "source": [
    "df_train.corr()"
   ]
  },
  {
   "cell_type": "code",
   "execution_count": 13,
   "metadata": {},
   "outputs": [
    {
     "data": {
      "image/png": "[encoded data removed]",
      "text/plain": [
       "<Figure size 432x432 with 2 Axes>"
      ]
     },
     "metadata": {
      "needs_background": "light"
     },
     "output_type": "display_data"
    }
   ],
   "source": [
    "fig = plt.subplots (figsize = (6, 6))\n",
    "sns.heatmap(df_train.corr (), square = True, cbar = True, annot = True, annot_kws = {'size': 8})\n",
    "plt.title('Correlations between Attributes')\n",
    "plt.show ()"
   ]
  },
  {
   "cell_type": "markdown",
   "metadata": {},
   "source": [
    "**Observations of heatmap:**\n",
    "- the most influential variable is ram\n",
    "- having 3G and 4G is somewhat correlated\n",
    "- most of the variables have very little correlation to price range\n",
    "- primary camera mega pixels and front Camera mega pixels have correlation (it make sense because both of them reflect technology level of resolution of the related phone model) but they do not effect prige range.\n",
    "- there is no highly correlated inputs in our dataset, so there is no multicollinearity problem."
   ]
  },
  {
   "cell_type": "markdown",
   "metadata": {},
   "source": [
    "**Relation between attributes:**\n",
    "\n",
    "- Price range vs. ram has high positive correlation\n",
    "- fc vs. pc has positive correlation\n",
    "- four_g vs. three_g has positive correlation\n",
    "- pc_height vs. pc_width has positive correlation"
   ]
  },
  {
   "cell_type": "markdown",
   "metadata": {},
   "source": [
    "**Price range vs Internal Memory**"
   ]
  },
  {
   "cell_type": "code",
   "execution_count": 14,
   "metadata": {},
   "outputs": [
    {
     "data": {
      "text/plain": [
       "<matplotlib.axes._subplots.AxesSubplot at 0x22305034748>"
      ]
     },
     "execution_count": 14,
     "metadata": {},
     "output_type": "execute_result"
    },
    {
     "data": {
      "image/png": "[encoded data removed]",
      "text/plain": [
       "<Figure size 432x288 with 1 Axes>"
      ]
     },
     "metadata": {
      "needs_background": "light"
     },
     "output_type": "display_data"
    }
   ],
   "source": [
    "sns.lineplot(y=\"int_memory\", x=\"price_range\", data=df_train)"
   ]
  },
  {
   "cell_type": "markdown",
   "metadata": {},
   "source": [
    "**LinePlot:-**\n",
    "- In the above graph the internal memory depends on the price range as the price increases the memory size increases"
   ]
  },
  {
   "cell_type": "markdown",
   "metadata": {},
   "source": [
    "**Effect of ram on price**"
   ]
  },
  {
   "cell_type": "code",
   "execution_count": 15,
   "metadata": {},
   "outputs": [
    {
     "data": {
      "image/png": "[encoded data removed]",
      "text/plain": [
       "<Figure size 432x288 with 1 Axes>"
      ]
     },
     "metadata": {
      "needs_background": "light"
     },
     "output_type": "display_data"
    }
   ],
   "source": [
    "df_train.groupby('price_range').mean()['ram'].plot(kind = 'bar', legend = True).tick_params(axis = 'x', labelrotation = 360)"
   ]
  },
  {
   "cell_type": "markdown",
   "metadata": {},
   "source": [
    "Here,we can see :\n",
    "\n",
    "- The price_range 3 having  more RAM\n",
    "- The price_range  0 having low RAM"
   ]
  },
  {
   "cell_type": "markdown",
   "metadata": {},
   "source": [
    "**Bluetooth,Wifi vs price**"
   ]
  },
  {
   "cell_type": "code",
   "execution_count": 16,
   "metadata": {},
   "outputs": [
    {
     "data": {
      "text/plain": [
       "<seaborn.axisgrid.FacetGrid at 0x223027b5b08>"
      ]
     },
     "execution_count": 16,
     "metadata": {},
     "output_type": "execute_result"
    },
    {
     "data": {
      "image/png": "[encoded data removed]",
      "text/plain": [
       "<Figure size 762.375x360 with 2 Axes>"
      ]
     },
     "metadata": {
      "needs_background": "light"
     },
     "output_type": "display_data"
    }
   ],
   "source": [
    "sns.catplot('price_range', col='blue',hue = 'wifi',data = df_train,  kind = 'count', col_wrap=2)"
   ]
  },
  {
   "cell_type": "markdown",
   "metadata": {},
   "source": [
    "Observation-\n",
    "- Bluetooth and Wifi seem to not have a significant affect to phone price since they have similar distribution in every price range."
   ]
  },
  {
   "cell_type": "markdown",
   "metadata": {},
   "source": [
    "**% of Phones which support 3G**"
   ]
  },
  {
   "cell_type": "code",
   "execution_count": 17,
   "metadata": {},
   "outputs": [
    {
     "data": {
      "image/png": "[encoded data removed]",
      "text/plain": [
       "<Figure size 432x288 with 1 Axes>"
      ]
     },
     "metadata": {},
     "output_type": "display_data"
    }
   ],
   "source": [
    "labels = [\"3G-supported\",'Not supported']\n",
    "values=df_train['three_g'].value_counts().values\n",
    "fig1, ax1 = plt.subplots()\n",
    "ax1.pie(values, labels=labels, autopct='%1.1f%%',shadow=True,startangle=90)\n",
    "plt.show()"
   ]
  },
  {
   "cell_type": "markdown",
   "metadata": {},
   "source": [
    "Observation\n",
    "- 76.2% of phones support 3g\n",
    "- 23.8% of phones donot support 3g"
   ]
  },
  {
   "cell_type": "markdown",
   "metadata": {},
   "source": [
    "**% of Phones which support 4G**"
   ]
  },
  {
   "cell_type": "code",
   "execution_count": 18,
   "metadata": {},
   "outputs": [
    {
     "data": {
      "image/png": "[encoded data removed]",
      "text/plain": [
       "<Figure size 432x288 with 1 Axes>"
      ]
     },
     "metadata": {},
     "output_type": "display_data"
    }
   ],
   "source": [
    "labels4g = [\"4G-supported\",'Not supported']\n",
    "values4g = df_train['four_g'].value_counts().values\n",
    "fig1, ax1 = plt.subplots()\n",
    "ax1.pie(values4g, labels=labels4g, autopct='%1.1f%%',shadow=True,startangle=90)\n",
    "plt.show()"
   ]
  },
  {
   "cell_type": "markdown",
   "metadata": {},
   "source": [
    "Observation\n",
    "- 52.1% of phones support 4g\n",
    "- 47.9% of phones donot support 4g"
   ]
  },
  {
   "cell_type": "markdown",
   "metadata": {},
   "source": [
    "**Dualsim Support**"
   ]
  },
  {
   "cell_type": "code",
   "execution_count": 19,
   "metadata": {},
   "outputs": [
    {
     "data": {
      "image/png": "[encoded data removed]",
      "text/plain": [
       "<Figure size 432x288 with 1 Axes>"
      ]
     },
     "metadata": {},
     "output_type": "display_data"
    }
   ],
   "source": [
    "x=df_train['dual_sim'].value_counts()\n",
    "labels='Supports Dualsim: '+str(x[1]),'Does not support Dualsim:- '+str(x[0])\n",
    "sizes=[x[1],x[0]]\n",
    "fig1, ax1 = plt.subplots()\n",
    "ax1.pie(sizes,labels=labels)\n",
    "ax1.axis('equal')\n",
    "plt.show()"
   ]
  },
  {
   "cell_type": "markdown",
   "metadata": {},
   "source": [
    "Observation\n",
    "- 1019 phones support dualsim\n",
    "- 981 phones donot support dualsim"
   ]
  },
  {
   "cell_type": "markdown",
   "metadata": {},
   "source": [
    "**Battery power vs Price Range**"
   ]
  },
  {
   "cell_type": "code",
   "execution_count": 20,
   "metadata": {},
   "outputs": [
    {
     "data": {
      "text/plain": [
       "<matplotlib.axes._subplots.AxesSubplot at 0x223051a8808>"
      ]
     },
     "execution_count": 20,
     "metadata": {},
     "output_type": "execute_result"
    },
    {
     "data": {
      "image/png": "[encoded data removed]",
      "text/plain": [
       "<Figure size 432x288 with 1 Axes>"
      ]
     },
     "metadata": {
      "needs_background": "light"
     },
     "output_type": "display_data"
    }
   ],
   "source": [
    "sns.pointplot(x=\"price_range\", y=\"battery_power\", data=df_train)"
   ]
  },
  {
   "cell_type": "markdown",
   "metadata": {},
   "source": [
    "**Observations:-**\n",
    "    \n",
    "- when price_range is 3 then battery power greater than 1600 MAH\n",
    "- when price_range is 2 then battery power greater is 1600 MAH\n",
    "- when price_range is 1 then battery power is 1500 MAH\n",
    "- when price_range is 0 then battery power is 1400 MAH"
   ]
  },
  {
   "cell_type": "markdown",
   "metadata": {},
   "source": [
    "**Touch screen vs Price_range**"
   ]
  },
  {
   "cell_type": "code",
   "execution_count": 21,
   "metadata": {},
   "outputs": [
    {
     "data": {
      "image/png": "[encoded data removed]",
      "text/plain": [
       "<Figure size 432x288 with 1 Axes>"
      ]
     },
     "metadata": {
      "needs_background": "light"
     },
     "output_type": "display_data"
    }
   ],
   "source": [
    "sns.pointplot(x='touch_screen',y='price_range',data=df_train)\n",
    "plt.show()"
   ]
  },
  {
   "cell_type": "markdown",
   "metadata": {},
   "source": [
    "Observation:\n",
    "- The mobiles which have touch screen are more costlier"
   ]
  },
  {
   "cell_type": "markdown",
   "metadata": {},
   "source": [
    "**No of Phones vs Camera megapixels of front and primary camera :**"
   ]
  },
  {
   "cell_type": "code",
   "execution_count": 22,
   "metadata": {},
   "outputs": [
    {
     "data": {
      "text/plain": [
       "Text(0.5, 0, 'MegaPixels')"
      ]
     },
     "execution_count": 22,
     "metadata": {},
     "output_type": "execute_result"
    },
    {
     "data": {
      "image/png": "[encoded data removed]",
      "text/plain": [
       "<Figure size 720x432 with 1 Axes>"
      ]
     },
     "metadata": {
      "needs_background": "light"
     },
     "output_type": "display_data"
    }
   ],
   "source": [
    "plt.figure(figsize=(10,6))\n",
    "df_train['fc'].hist(alpha=0.5,color='black',label='Front camera')\n",
    "df_train['pc'].hist(alpha=0.5,color='orange',label='Primary camera')\n",
    "plt.legend()\n",
    "plt.xlabel('MegaPixels')"
   ]
  },
  {
   "cell_type": "markdown",
   "metadata": {},
   "source": [
    "**EDA observation:**\n",
    "- ram has direct impact on the price range of the phones\n",
    "- Features like\n",
    "\n",
    "1.3g\n",
    "\n",
    "2.4g\n",
    "\n",
    "3.Dual sim\n",
    "\n",
    "4.wifi\n",
    "\n",
    "5.Touch screen\n",
    "- these have more impact on the phones prices"
   ]
  },
  {
   "cell_type": "markdown",
   "metadata": {},
   "source": [
    "## 3.Training and testing the data"
   ]
  },
  {
   "cell_type": "markdown",
   "metadata": {},
   "source": [
    "Steps to be followed:\n",
    "- completion of preprocessing steps\n",
    "- Next we have to split the data into train and test datasets and check the accuracy\n",
    "- Here we test with the following algorithm logistic regression, logistic regression with scalling, Decision Tree, Random Forest"
   ]
  },
  {
   "cell_type": "code",
   "execution_count": 23,
   "metadata": {},
   "outputs": [],
   "source": [
    "y = df_train['price_range']\n",
    "X = df_train.drop('price_range', axis = 1)"
   ]
  },
  {
   "cell_type": "markdown",
   "metadata": {},
   "source": [
    "Price range target values"
   ]
  },
  {
   "cell_type": "code",
   "execution_count": 24,
   "metadata": {},
   "outputs": [
    {
     "data": {
      "text/plain": [
       "array([1, 2, 3, 0], dtype=int64)"
      ]
     },
     "execution_count": 24,
     "metadata": {},
     "output_type": "execute_result"
    }
   ],
   "source": [
    "y.unique()"
   ]
  },
  {
   "cell_type": "code",
   "execution_count": 25,
   "metadata": {},
   "outputs": [],
   "source": [
    "from sklearn.model_selection import train_test_split\n",
    "from sklearn import metrics\n",
    "from sklearn.metrics import classification_report, confusion_matrix, accuracy_score "
   ]
  },
  {
   "cell_type": "code",
   "execution_count": 26,
   "metadata": {},
   "outputs": [],
   "source": [
    "X_train, X_test, y_train, y_test = train_test_split(X, y,test_size = 0.2, random_state = 101)"
   ]
  },
  {
   "cell_type": "code",
   "execution_count": 27,
   "metadata": {},
   "outputs": [
    {
     "name": "stdout",
     "output_type": "stream",
     "text": [
      "(1600, 20)\n",
      "(400, 20)\n",
      "(1600,)\n",
      "(400,)\n"
     ]
    }
   ],
   "source": [
    "print(X_train.shape)\n",
    "print(X_test.shape)\n",
    "print(y_train.shape)\n",
    "print(y_test.shape)"
   ]
  },
  {
   "cell_type": "markdown",
   "metadata": {},
   "source": [
    "**Training and Testing the logistic regresssion without scaling**"
   ]
  },
  {
   "cell_type": "code",
   "execution_count": 28,
   "metadata": {},
   "outputs": [],
   "source": [
    "from sklearn.linear_model import LogisticRegression "
   ]
  },
  {
   "cell_type": "code",
   "execution_count": 29,
   "metadata": {},
   "outputs": [
    {
     "data": {
      "text/plain": [
       "LogisticRegression(C=1.0, class_weight=None, dual=False, fit_intercept=True,\n",
       "                   intercept_scaling=1, l1_ratio=None, max_iter=10000,\n",
       "                   multi_class='ovr', n_jobs=None, penalty='l2',\n",
       "                   random_state=None, solver='sag', tol=0.0001, verbose=0,\n",
       "                   warm_start=False)"
      ]
     },
     "execution_count": 29,
     "metadata": {},
     "output_type": "execute_result"
    }
   ],
   "source": [
    "lr = LogisticRegression(multi_class = 'ovr', solver = 'sag',  max_iter = 10000)\n",
    "lr.fit(X_train, y_train)"
   ]
  },
  {
   "cell_type": "code",
   "execution_count": 30,
   "metadata": {},
   "outputs": [],
   "source": [
    "y_pred_lr_11 = lr.predict(X_test)"
   ]
  },
  {
   "cell_type": "code",
   "execution_count": 31,
   "metadata": {},
   "outputs": [],
   "source": [
    "y_pred_lr_12 = lr.predict(X_train)"
   ]
  },
  {
   "cell_type": "markdown",
   "metadata": {},
   "source": [
    "**Tesing the data**"
   ]
  },
  {
   "cell_type": "code",
   "execution_count": 32,
   "metadata": {},
   "outputs": [
    {
     "data": {
      "text/plain": [
       "array([[82, 11,  1,  0],\n",
       "       [25, 49, 23,  5],\n",
       "       [ 0, 21, 54, 45],\n",
       "       [ 0,  4,  8, 72]], dtype=int64)"
      ]
     },
     "execution_count": 32,
     "metadata": {},
     "output_type": "execute_result"
    }
   ],
   "source": [
    "confusion_matrix = metrics.confusion_matrix(y_test, y_pred_lr_11)\n",
    "confusion_matrix"
   ]
  },
  {
   "cell_type": "markdown",
   "metadata": {},
   "source": [
    "**Training the data**"
   ]
  },
  {
   "cell_type": "code",
   "execution_count": 33,
   "metadata": {},
   "outputs": [
    {
     "data": {
      "text/plain": [
       "array([[373,  27,   6,   0],\n",
       "       [ 78, 217,  80,  23],\n",
       "       [  2,  81, 138, 159],\n",
       "       [  0,   3,  31, 382]], dtype=int64)"
      ]
     },
     "execution_count": 33,
     "metadata": {},
     "output_type": "execute_result"
    }
   ],
   "source": [
    "confusion_matrix_1 = metrics.confusion_matrix(y_train, y_pred_lr_12)\n",
    "confusion_matrix_1"
   ]
  },
  {
   "cell_type": "code",
   "execution_count": 34,
   "metadata": {},
   "outputs": [
    {
     "name": "stdout",
     "output_type": "stream",
     "text": [
      "              precision    recall  f1-score   support\n",
      "\n",
      "           0       0.77      0.87      0.82        94\n",
      "           1       0.58      0.48      0.52       102\n",
      "           2       0.63      0.45      0.52       120\n",
      "           3       0.59      0.86      0.70        84\n",
      "\n",
      "    accuracy                           0.64       400\n",
      "   macro avg       0.64      0.66      0.64       400\n",
      "weighted avg       0.64      0.64      0.63       400\n",
      "\n"
     ]
    }
   ],
   "source": [
    "print(classification_report(y_test, y_pred_lr_11)) #test"
   ]
  },
  {
   "cell_type": "code",
   "execution_count": 35,
   "metadata": {},
   "outputs": [
    {
     "name": "stdout",
     "output_type": "stream",
     "text": [
      "              precision    recall  f1-score   support\n",
      "\n",
      "           0       0.82      0.92      0.87       406\n",
      "           1       0.66      0.55      0.60       398\n",
      "           2       0.54      0.36      0.43       380\n",
      "           3       0.68      0.92      0.78       416\n",
      "\n",
      "    accuracy                           0.69      1600\n",
      "   macro avg       0.68      0.69      0.67      1600\n",
      "weighted avg       0.68      0.69      0.67      1600\n",
      "\n"
     ]
    }
   ],
   "source": [
    "print(classification_report(y_train, y_pred_lr_12)) #train"
   ]
  },
  {
   "cell_type": "code",
   "execution_count": 36,
   "metadata": {},
   "outputs": [
    {
     "data": {
      "image/png": "[encoded data removed]",
      "text/plain": [
       "<Figure size 432x288 with 1 Axes>"
      ]
     },
     "metadata": {
      "needs_background": "light"
     },
     "output_type": "display_data"
    }
   ],
   "source": [
    "models = ['training','testing']\n",
    "acc_scores = [0.69,0.64]\n",
    "plt.barh(models, acc_scores, color=['lightgreen', 'grey' ])\n",
    "plt.ylabel(\"accuracy scores\")\n",
    "plt.title(\"train vs test\")\n",
    "plt.show()"
   ]
  },
  {
   "cell_type": "markdown",
   "metadata": {},
   "source": [
    "Observations:\n",
    "- Training accuracy in logistic regression: 69%\n",
    "\n",
    "- Testing accuracy in logistic regression:64% "
   ]
  },
  {
   "cell_type": "markdown",
   "metadata": {},
   "source": [
    "**Scaling the data**"
   ]
  },
  {
   "cell_type": "code",
   "execution_count": 37,
   "metadata": {},
   "outputs": [],
   "source": [
    "from sklearn.preprocessing import StandardScaler\n",
    "from sklearn.preprocessing import MinMaxScaler\n",
    "scaler = StandardScaler().fit(X_train)"
   ]
  },
  {
   "cell_type": "code",
   "execution_count": 38,
   "metadata": {},
   "outputs": [
    {
     "data": {
      "text/html": [
       "<div>\n",
       "<style scoped>\n",
       "    .dataframe tbody tr th:only-of-type {\n",
       "        vertical-align: middle;\n",
       "    }\n",
       "\n",
       "    .dataframe tbody tr th {\n",
       "        vertical-align: top;\n",
       "    }\n",
       "\n",
       "    .dataframe thead th {\n",
       "        text-align: right;\n",
       "    }\n",
       "</style>\n",
       "<table border=\"1\" class=\"dataframe\">\n",
       "  <thead>\n",
       "    <tr style=\"text-align: right;\">\n",
       "      <th></th>\n",
       "      <th>0</th>\n",
       "      <th>1</th>\n",
       "      <th>2</th>\n",
       "      <th>3</th>\n",
       "      <th>4</th>\n",
       "      <th>5</th>\n",
       "      <th>6</th>\n",
       "      <th>7</th>\n",
       "      <th>8</th>\n",
       "      <th>9</th>\n",
       "      <th>10</th>\n",
       "      <th>11</th>\n",
       "      <th>12</th>\n",
       "      <th>13</th>\n",
       "      <th>14</th>\n",
       "      <th>15</th>\n",
       "      <th>16</th>\n",
       "      <th>17</th>\n",
       "      <th>18</th>\n",
       "      <th>19</th>\n",
       "    </tr>\n",
       "  </thead>\n",
       "  <tbody>\n",
       "    <tr>\n",
       "      <th>0</th>\n",
       "      <td>0.984823</td>\n",
       "      <td>-0.986343</td>\n",
       "      <td>0.345546</td>\n",
       "      <td>0.990050</td>\n",
       "      <td>-0.066906</td>\n",
       "      <td>-1.053953</td>\n",
       "      <td>-1.156036</td>\n",
       "      <td>0.653456</td>\n",
       "      <td>-0.451426</td>\n",
       "      <td>0.646912</td>\n",
       "      <td>-0.312840</td>\n",
       "      <td>-0.841894</td>\n",
       "      <td>0.512558</td>\n",
       "      <td>1.507969</td>\n",
       "      <td>0.645076</td>\n",
       "      <td>0.043393</td>\n",
       "      <td>0.176984</td>\n",
       "      <td>0.563877</td>\n",
       "      <td>-0.998751</td>\n",
       "      <td>-1.012579</td>\n",
       "    </tr>\n",
       "    <tr>\n",
       "      <th>1</th>\n",
       "      <td>-0.673224</td>\n",
       "      <td>1.013846</td>\n",
       "      <td>-1.250227</td>\n",
       "      <td>-1.010051</td>\n",
       "      <td>-0.766578</td>\n",
       "      <td>0.948808</td>\n",
       "      <td>1.044235</td>\n",
       "      <td>-1.416900</td>\n",
       "      <td>0.114337</td>\n",
       "      <td>-1.102237</td>\n",
       "      <td>0.849672</td>\n",
       "      <td>-1.018037</td>\n",
       "      <td>-0.852864</td>\n",
       "      <td>0.724930</td>\n",
       "      <td>1.120599</td>\n",
       "      <td>-1.094793</td>\n",
       "      <td>-0.937146</td>\n",
       "      <td>0.563877</td>\n",
       "      <td>1.001251</td>\n",
       "      <td>0.987577</td>\n",
       "    </tr>\n",
       "    <tr>\n",
       "      <th>2</th>\n",
       "      <td>-0.400668</td>\n",
       "      <td>1.013846</td>\n",
       "      <td>0.222795</td>\n",
       "      <td>0.990050</td>\n",
       "      <td>-0.999802</td>\n",
       "      <td>-1.053953</td>\n",
       "      <td>1.429282</td>\n",
       "      <td>-0.036663</td>\n",
       "      <td>-0.140256</td>\n",
       "      <td>1.084199</td>\n",
       "      <td>-1.641426</td>\n",
       "      <td>-1.275477</td>\n",
       "      <td>-1.329604</td>\n",
       "      <td>-1.295786</td>\n",
       "      <td>-0.068208</td>\n",
       "      <td>0.726305</td>\n",
       "      <td>0.919738</td>\n",
       "      <td>-1.773437</td>\n",
       "      <td>1.001251</td>\n",
       "      <td>-1.012579</td>\n",
       "    </tr>\n",
       "    <tr>\n",
       "      <th>3</th>\n",
       "      <td>1.545834</td>\n",
       "      <td>-0.986343</td>\n",
       "      <td>-1.250227</td>\n",
       "      <td>-1.010051</td>\n",
       "      <td>-0.300130</td>\n",
       "      <td>0.948808</td>\n",
       "      <td>1.704316</td>\n",
       "      <td>-0.726781</td>\n",
       "      <td>-0.819173</td>\n",
       "      <td>-1.102237</td>\n",
       "      <td>0.019306</td>\n",
       "      <td>-1.178372</td>\n",
       "      <td>-1.318033</td>\n",
       "      <td>1.189631</td>\n",
       "      <td>0.169554</td>\n",
       "      <td>-0.639519</td>\n",
       "      <td>1.476803</td>\n",
       "      <td>0.563877</td>\n",
       "      <td>-0.998751</td>\n",
       "      <td>-1.012579</td>\n",
       "    </tr>\n",
       "    <tr>\n",
       "      <th>4</th>\n",
       "      <td>-1.359156</td>\n",
       "      <td>-0.986343</td>\n",
       "      <td>-1.250227</td>\n",
       "      <td>-1.010051</td>\n",
       "      <td>-0.766578</td>\n",
       "      <td>-1.053953</td>\n",
       "      <td>0.494167</td>\n",
       "      <td>1.688634</td>\n",
       "      <td>1.613611</td>\n",
       "      <td>1.084199</td>\n",
       "      <td>0.019306</td>\n",
       "      <td>-0.715433</td>\n",
       "      <td>-1.563346</td>\n",
       "      <td>0.767924</td>\n",
       "      <td>-0.068208</td>\n",
       "      <td>0.726305</td>\n",
       "      <td>-1.308523</td>\n",
       "      <td>0.563877</td>\n",
       "      <td>1.001251</td>\n",
       "      <td>0.987577</td>\n",
       "    </tr>\n",
       "    <tr>\n",
       "      <th>...</th>\n",
       "      <td>...</td>\n",
       "      <td>...</td>\n",
       "      <td>...</td>\n",
       "      <td>...</td>\n",
       "      <td>...</td>\n",
       "      <td>...</td>\n",
       "      <td>...</td>\n",
       "      <td>...</td>\n",
       "      <td>...</td>\n",
       "      <td>...</td>\n",
       "      <td>...</td>\n",
       "      <td>...</td>\n",
       "      <td>...</td>\n",
       "      <td>...</td>\n",
       "      <td>...</td>\n",
       "      <td>...</td>\n",
       "      <td>...</td>\n",
       "      <td>...</td>\n",
       "      <td>...</td>\n",
       "      <td>...</td>\n",
       "    </tr>\n",
       "    <tr>\n",
       "      <th>1595</th>\n",
       "      <td>-0.175810</td>\n",
       "      <td>1.013846</td>\n",
       "      <td>-1.250227</td>\n",
       "      <td>-1.010051</td>\n",
       "      <td>0.632766</td>\n",
       "      <td>-1.053953</td>\n",
       "      <td>1.484289</td>\n",
       "      <td>-0.036663</td>\n",
       "      <td>-1.696107</td>\n",
       "      <td>-1.539524</td>\n",
       "      <td>0.185379</td>\n",
       "      <td>-0.467026</td>\n",
       "      <td>-1.429118</td>\n",
       "      <td>1.614082</td>\n",
       "      <td>-1.019253</td>\n",
       "      <td>0.043393</td>\n",
       "      <td>-0.751458</td>\n",
       "      <td>0.563877</td>\n",
       "      <td>-0.998751</td>\n",
       "      <td>0.987577</td>\n",
       "    </tr>\n",
       "    <tr>\n",
       "      <th>1596</th>\n",
       "      <td>-0.455179</td>\n",
       "      <td>-0.986343</td>\n",
       "      <td>1.450313</td>\n",
       "      <td>-1.010051</td>\n",
       "      <td>-0.300130</td>\n",
       "      <td>-1.053953</td>\n",
       "      <td>-0.165914</td>\n",
       "      <td>-1.071840</td>\n",
       "      <td>-1.611242</td>\n",
       "      <td>1.521486</td>\n",
       "      <td>1.181819</td>\n",
       "      <td>0.549184</td>\n",
       "      <td>-0.838978</td>\n",
       "      <td>-0.859443</td>\n",
       "      <td>-1.732537</td>\n",
       "      <td>-0.639519</td>\n",
       "      <td>-0.565769</td>\n",
       "      <td>0.563877</td>\n",
       "      <td>-0.998751</td>\n",
       "      <td>-1.012579</td>\n",
       "    </tr>\n",
       "    <tr>\n",
       "      <th>1597</th>\n",
       "      <td>0.694097</td>\n",
       "      <td>1.013846</td>\n",
       "      <td>-0.022709</td>\n",
       "      <td>0.990050</td>\n",
       "      <td>-0.999802</td>\n",
       "      <td>0.948808</td>\n",
       "      <td>-0.275928</td>\n",
       "      <td>-0.381722</td>\n",
       "      <td>-0.762597</td>\n",
       "      <td>0.209625</td>\n",
       "      <td>-0.478914</td>\n",
       "      <td>-0.026668</td>\n",
       "      <td>-0.216438</td>\n",
       "      <td>-1.542772</td>\n",
       "      <td>-0.543730</td>\n",
       "      <td>0.498668</td>\n",
       "      <td>-0.008704</td>\n",
       "      <td>0.563877</td>\n",
       "      <td>-0.998751</td>\n",
       "      <td>-1.012579</td>\n",
       "    </tr>\n",
       "    <tr>\n",
       "      <th>1598</th>\n",
       "      <td>0.834918</td>\n",
       "      <td>-0.986343</td>\n",
       "      <td>-1.250227</td>\n",
       "      <td>0.990050</td>\n",
       "      <td>-0.066906</td>\n",
       "      <td>0.948808</td>\n",
       "      <td>-0.275928</td>\n",
       "      <td>1.343574</td>\n",
       "      <td>1.670188</td>\n",
       "      <td>-1.539524</td>\n",
       "      <td>0.019306</td>\n",
       "      <td>-1.085784</td>\n",
       "      <td>-0.565894</td>\n",
       "      <td>0.874037</td>\n",
       "      <td>0.645076</td>\n",
       "      <td>-0.867156</td>\n",
       "      <td>-0.937146</td>\n",
       "      <td>0.563877</td>\n",
       "      <td>-0.998751</td>\n",
       "      <td>0.987577</td>\n",
       "    </tr>\n",
       "    <tr>\n",
       "      <th>1599</th>\n",
       "      <td>0.412456</td>\n",
       "      <td>-0.986343</td>\n",
       "      <td>-0.390965</td>\n",
       "      <td>-1.010051</td>\n",
       "      <td>1.099214</td>\n",
       "      <td>0.948808</td>\n",
       "      <td>0.164126</td>\n",
       "      <td>0.653456</td>\n",
       "      <td>-0.366562</td>\n",
       "      <td>1.521486</td>\n",
       "      <td>0.683599</td>\n",
       "      <td>-1.115142</td>\n",
       "      <td>1.484553</td>\n",
       "      <td>-1.401898</td>\n",
       "      <td>0.169554</td>\n",
       "      <td>-0.867156</td>\n",
       "      <td>-0.937146</td>\n",
       "      <td>0.563877</td>\n",
       "      <td>1.001251</td>\n",
       "      <td>0.987577</td>\n",
       "    </tr>\n",
       "  </tbody>\n",
       "</table>\n",
       "<p>1600 rows × 20 columns</p>\n",
       "</div>"
      ],
      "text/plain": [
       "             0         1         2         3         4         5         6  \\\n",
       "0     0.984823 -0.986343  0.345546  0.990050 -0.066906 -1.053953 -1.156036   \n",
       "1    -0.673224  1.013846 -1.250227 -1.010051 -0.766578  0.948808  1.044235   \n",
       "2    -0.400668  1.013846  0.222795  0.990050 -0.999802 -1.053953  1.429282   \n",
       "3     1.545834 -0.986343 -1.250227 -1.010051 -0.300130  0.948808  1.704316   \n",
       "4    -1.359156 -0.986343 -1.250227 -1.010051 -0.766578 -1.053953  0.494167   \n",
       "...        ...       ...       ...       ...       ...       ...       ...   \n",
       "1595 -0.175810  1.013846 -1.250227 -1.010051  0.632766 -1.053953  1.484289   \n",
       "1596 -0.455179 -0.986343  1.450313 -1.010051 -0.300130 -1.053953 -0.165914   \n",
       "1597  0.694097  1.013846 -0.022709  0.990050 -0.999802  0.948808 -0.275928   \n",
       "1598  0.834918 -0.986343 -1.250227  0.990050 -0.066906  0.948808 -0.275928   \n",
       "1599  0.412456 -0.986343 -0.390965 -1.010051  1.099214  0.948808  0.164126   \n",
       "\n",
       "             7         8         9        10        11        12        13  \\\n",
       "0     0.653456 -0.451426  0.646912 -0.312840 -0.841894  0.512558  1.507969   \n",
       "1    -1.416900  0.114337 -1.102237  0.849672 -1.018037 -0.852864  0.724930   \n",
       "2    -0.036663 -0.140256  1.084199 -1.641426 -1.275477 -1.329604 -1.295786   \n",
       "3    -0.726781 -0.819173 -1.102237  0.019306 -1.178372 -1.318033  1.189631   \n",
       "4     1.688634  1.613611  1.084199  0.019306 -0.715433 -1.563346  0.767924   \n",
       "...        ...       ...       ...       ...       ...       ...       ...   \n",
       "1595 -0.036663 -1.696107 -1.539524  0.185379 -0.467026 -1.429118  1.614082   \n",
       "1596 -1.071840 -1.611242  1.521486  1.181819  0.549184 -0.838978 -0.859443   \n",
       "1597 -0.381722 -0.762597  0.209625 -0.478914 -0.026668 -0.216438 -1.542772   \n",
       "1598  1.343574  1.670188 -1.539524  0.019306 -1.085784 -0.565894  0.874037   \n",
       "1599  0.653456 -0.366562  1.521486  0.683599 -1.115142  1.484553 -1.401898   \n",
       "\n",
       "            14        15        16        17        18        19  \n",
       "0     0.645076  0.043393  0.176984  0.563877 -0.998751 -1.012579  \n",
       "1     1.120599 -1.094793 -0.937146  0.563877  1.001251  0.987577  \n",
       "2    -0.068208  0.726305  0.919738 -1.773437  1.001251 -1.012579  \n",
       "3     0.169554 -0.639519  1.476803  0.563877 -0.998751 -1.012579  \n",
       "4    -0.068208  0.726305 -1.308523  0.563877  1.001251  0.987577  \n",
       "...        ...       ...       ...       ...       ...       ...  \n",
       "1595 -1.019253  0.043393 -0.751458  0.563877 -0.998751  0.987577  \n",
       "1596 -1.732537 -0.639519 -0.565769  0.563877 -0.998751 -1.012579  \n",
       "1597 -0.543730  0.498668 -0.008704  0.563877 -0.998751 -1.012579  \n",
       "1598  0.645076 -0.867156 -0.937146  0.563877 -0.998751  0.987577  \n",
       "1599  0.169554 -0.867156 -0.937146  0.563877  1.001251  0.987577  \n",
       "\n",
       "[1600 rows x 20 columns]"
      ]
     },
     "execution_count": 38,
     "metadata": {},
     "output_type": "execute_result"
    }
   ],
   "source": [
    "scaled_X_train = pd.DataFrame(scaler.fit_transform(X_train))\n",
    "scaled_X_train"
   ]
  },
  {
   "cell_type": "code",
   "execution_count": 39,
   "metadata": {},
   "outputs": [
    {
     "data": {
      "text/html": [
       "<div>\n",
       "<style scoped>\n",
       "    .dataframe tbody tr th:only-of-type {\n",
       "        vertical-align: middle;\n",
       "    }\n",
       "\n",
       "    .dataframe tbody tr th {\n",
       "        vertical-align: top;\n",
       "    }\n",
       "\n",
       "    .dataframe thead th {\n",
       "        text-align: right;\n",
       "    }\n",
       "</style>\n",
       "<table border=\"1\" class=\"dataframe\">\n",
       "  <thead>\n",
       "    <tr style=\"text-align: right;\">\n",
       "      <th></th>\n",
       "      <th>0</th>\n",
       "      <th>1</th>\n",
       "      <th>2</th>\n",
       "      <th>3</th>\n",
       "      <th>4</th>\n",
       "      <th>5</th>\n",
       "      <th>6</th>\n",
       "      <th>7</th>\n",
       "      <th>8</th>\n",
       "      <th>9</th>\n",
       "      <th>10</th>\n",
       "      <th>11</th>\n",
       "      <th>12</th>\n",
       "      <th>13</th>\n",
       "      <th>14</th>\n",
       "      <th>15</th>\n",
       "      <th>16</th>\n",
       "      <th>17</th>\n",
       "      <th>18</th>\n",
       "      <th>19</th>\n",
       "    </tr>\n",
       "  </thead>\n",
       "  <tbody>\n",
       "    <tr>\n",
       "      <th>0</th>\n",
       "      <td>0.342699</td>\n",
       "      <td>-1.005013</td>\n",
       "      <td>-1.264622</td>\n",
       "      <td>-1.056599</td>\n",
       "      <td>1.232482</td>\n",
       "      <td>0.995012</td>\n",
       "      <td>0.546668</td>\n",
       "      <td>-0.952194</td>\n",
       "      <td>-1.418952</td>\n",
       "      <td>-1.537778</td>\n",
       "      <td>1.599113</td>\n",
       "      <td>0.574258</td>\n",
       "      <td>-0.719246</td>\n",
       "      <td>-0.515779</td>\n",
       "      <td>-0.090880</td>\n",
       "      <td>-1.333665</td>\n",
       "      <td>0.543941</td>\n",
       "      <td>0.542677</td>\n",
       "      <td>-1.035635</td>\n",
       "      <td>-1.020204</td>\n",
       "    </tr>\n",
       "    <tr>\n",
       "      <th>1</th>\n",
       "      <td>-1.402675</td>\n",
       "      <td>-1.005013</td>\n",
       "      <td>-1.264622</td>\n",
       "      <td>-1.056599</td>\n",
       "      <td>-0.308120</td>\n",
       "      <td>-1.005013</td>\n",
       "      <td>-0.342901</td>\n",
       "      <td>-0.594562</td>\n",
       "      <td>-1.362658</td>\n",
       "      <td>-0.227172</td>\n",
       "      <td>-0.971679</td>\n",
       "      <td>0.643609</td>\n",
       "      <td>1.650558</td>\n",
       "      <td>-0.252633</td>\n",
       "      <td>-0.326931</td>\n",
       "      <td>1.048943</td>\n",
       "      <td>0.543941</td>\n",
       "      <td>0.542677</td>\n",
       "      <td>0.965592</td>\n",
       "      <td>0.980196</td>\n",
       "    </tr>\n",
       "    <tr>\n",
       "      <th>2</th>\n",
       "      <td>-1.455565</td>\n",
       "      <td>-1.005013</td>\n",
       "      <td>-0.167336</td>\n",
       "      <td>0.946433</td>\n",
       "      <td>1.232482</td>\n",
       "      <td>0.995012</td>\n",
       "      <td>-1.343667</td>\n",
       "      <td>0.120701</td>\n",
       "      <td>0.016536</td>\n",
       "      <td>1.520303</td>\n",
       "      <td>0.635066</td>\n",
       "      <td>-1.195289</td>\n",
       "      <td>-1.476749</td>\n",
       "      <td>0.998267</td>\n",
       "      <td>-0.799034</td>\n",
       "      <td>0.334161</td>\n",
       "      <td>-0.150636</td>\n",
       "      <td>0.542677</td>\n",
       "      <td>-1.035635</td>\n",
       "      <td>0.980196</td>\n",
       "    </tr>\n",
       "    <tr>\n",
       "      <th>3</th>\n",
       "      <td>-0.089620</td>\n",
       "      <td>0.995012</td>\n",
       "      <td>-0.411177</td>\n",
       "      <td>-1.056599</td>\n",
       "      <td>0.132052</td>\n",
       "      <td>0.995012</td>\n",
       "      <td>0.991453</td>\n",
       "      <td>1.908858</td>\n",
       "      <td>0.072830</td>\n",
       "      <td>-0.227172</td>\n",
       "      <td>1.599113</td>\n",
       "      <td>0.614526</td>\n",
       "      <td>0.038257</td>\n",
       "      <td>-0.635912</td>\n",
       "      <td>-1.271137</td>\n",
       "      <td>-0.618882</td>\n",
       "      <td>1.585806</td>\n",
       "      <td>0.542677</td>\n",
       "      <td>0.965592</td>\n",
       "      <td>0.980196</td>\n",
       "    </tr>\n",
       "    <tr>\n",
       "      <th>4</th>\n",
       "      <td>-0.742698</td>\n",
       "      <td>-1.005013</td>\n",
       "      <td>-0.655019</td>\n",
       "      <td>0.946433</td>\n",
       "      <td>-0.308120</td>\n",
       "      <td>0.995012</td>\n",
       "      <td>-1.566059</td>\n",
       "      <td>-0.594562</td>\n",
       "      <td>-0.856015</td>\n",
       "      <td>-1.537778</td>\n",
       "      <td>-0.971679</td>\n",
       "      <td>1.630171</td>\n",
       "      <td>0.540943</td>\n",
       "      <td>-1.021097</td>\n",
       "      <td>-0.090880</td>\n",
       "      <td>1.048943</td>\n",
       "      <td>-1.192502</td>\n",
       "      <td>0.542677</td>\n",
       "      <td>0.965592</td>\n",
       "      <td>0.980196</td>\n",
       "    </tr>\n",
       "    <tr>\n",
       "      <th>...</th>\n",
       "      <td>...</td>\n",
       "      <td>...</td>\n",
       "      <td>...</td>\n",
       "      <td>...</td>\n",
       "      <td>...</td>\n",
       "      <td>...</td>\n",
       "      <td>...</td>\n",
       "      <td>...</td>\n",
       "      <td>...</td>\n",
       "      <td>...</td>\n",
       "      <td>...</td>\n",
       "      <td>...</td>\n",
       "      <td>...</td>\n",
       "      <td>...</td>\n",
       "      <td>...</td>\n",
       "      <td>...</td>\n",
       "      <td>...</td>\n",
       "      <td>...</td>\n",
       "      <td>...</td>\n",
       "      <td>...</td>\n",
       "    </tr>\n",
       "    <tr>\n",
       "      <th>395</th>\n",
       "      <td>-1.637231</td>\n",
       "      <td>0.995012</td>\n",
       "      <td>-1.264622</td>\n",
       "      <td>0.946433</td>\n",
       "      <td>-0.748293</td>\n",
       "      <td>-1.005013</td>\n",
       "      <td>-0.009313</td>\n",
       "      <td>0.120701</td>\n",
       "      <td>-0.011611</td>\n",
       "      <td>1.083434</td>\n",
       "      <td>0.153042</td>\n",
       "      <td>0.639134</td>\n",
       "      <td>0.376470</td>\n",
       "      <td>-0.408995</td>\n",
       "      <td>1.089378</td>\n",
       "      <td>-1.333665</td>\n",
       "      <td>-1.018858</td>\n",
       "      <td>0.542677</td>\n",
       "      <td>0.965592</td>\n",
       "      <td>0.980196</td>\n",
       "    </tr>\n",
       "    <tr>\n",
       "      <th>396</th>\n",
       "      <td>-0.229894</td>\n",
       "      <td>-1.005013</td>\n",
       "      <td>-1.264622</td>\n",
       "      <td>0.946433</td>\n",
       "      <td>-0.968379</td>\n",
       "      <td>0.995012</td>\n",
       "      <td>-0.509695</td>\n",
       "      <td>-0.236931</td>\n",
       "      <td>0.635767</td>\n",
       "      <td>-0.227172</td>\n",
       "      <td>-1.453702</td>\n",
       "      <td>0.381868</td>\n",
       "      <td>-0.742411</td>\n",
       "      <td>1.324341</td>\n",
       "      <td>-1.271137</td>\n",
       "      <td>-0.380622</td>\n",
       "      <td>-0.671569</td>\n",
       "      <td>0.542677</td>\n",
       "      <td>-1.035635</td>\n",
       "      <td>-1.020204</td>\n",
       "    </tr>\n",
       "    <tr>\n",
       "      <th>397</th>\n",
       "      <td>-0.549534</td>\n",
       "      <td>0.995012</td>\n",
       "      <td>-1.264622</td>\n",
       "      <td>-1.056599</td>\n",
       "      <td>-0.968379</td>\n",
       "      <td>0.995012</td>\n",
       "      <td>0.046285</td>\n",
       "      <td>1.551226</td>\n",
       "      <td>0.523179</td>\n",
       "      <td>0.646566</td>\n",
       "      <td>-1.614377</td>\n",
       "      <td>0.800206</td>\n",
       "      <td>1.210418</td>\n",
       "      <td>0.130646</td>\n",
       "      <td>-1.271137</td>\n",
       "      <td>-0.142361</td>\n",
       "      <td>-1.192502</td>\n",
       "      <td>0.542677</td>\n",
       "      <td>0.965592</td>\n",
       "      <td>-1.020204</td>\n",
       "    </tr>\n",
       "    <tr>\n",
       "      <th>398</th>\n",
       "      <td>-1.200313</td>\n",
       "      <td>-1.005013</td>\n",
       "      <td>1.417632</td>\n",
       "      <td>0.946433</td>\n",
       "      <td>0.132052</td>\n",
       "      <td>0.995012</td>\n",
       "      <td>-0.676490</td>\n",
       "      <td>-0.236931</td>\n",
       "      <td>0.889088</td>\n",
       "      <td>-1.100909</td>\n",
       "      <td>-0.650330</td>\n",
       "      <td>-0.385458</td>\n",
       "      <td>0.559475</td>\n",
       "      <td>-1.784795</td>\n",
       "      <td>-0.090880</td>\n",
       "      <td>0.095900</td>\n",
       "      <td>-1.192502</td>\n",
       "      <td>0.542677</td>\n",
       "      <td>0.965592</td>\n",
       "      <td>0.980196</td>\n",
       "    </tr>\n",
       "    <tr>\n",
       "      <th>399</th>\n",
       "      <td>-1.223308</td>\n",
       "      <td>0.995012</td>\n",
       "      <td>-0.289257</td>\n",
       "      <td>-1.056599</td>\n",
       "      <td>1.012396</td>\n",
       "      <td>0.995012</td>\n",
       "      <td>0.991453</td>\n",
       "      <td>0.478332</td>\n",
       "      <td>0.269858</td>\n",
       "      <td>-0.227172</td>\n",
       "      <td>1.599113</td>\n",
       "      <td>-0.148325</td>\n",
       "      <td>-0.195712</td>\n",
       "      <td>1.225184</td>\n",
       "      <td>0.381223</td>\n",
       "      <td>0.095900</td>\n",
       "      <td>-0.497925</td>\n",
       "      <td>0.542677</td>\n",
       "      <td>0.965592</td>\n",
       "      <td>-1.020204</td>\n",
       "    </tr>\n",
       "  </tbody>\n",
       "</table>\n",
       "<p>400 rows × 20 columns</p>\n",
       "</div>"
      ],
      "text/plain": [
       "            0         1         2         3         4         5         6  \\\n",
       "0    0.342699 -1.005013 -1.264622 -1.056599  1.232482  0.995012  0.546668   \n",
       "1   -1.402675 -1.005013 -1.264622 -1.056599 -0.308120 -1.005013 -0.342901   \n",
       "2   -1.455565 -1.005013 -0.167336  0.946433  1.232482  0.995012 -1.343667   \n",
       "3   -0.089620  0.995012 -0.411177 -1.056599  0.132052  0.995012  0.991453   \n",
       "4   -0.742698 -1.005013 -0.655019  0.946433 -0.308120  0.995012 -1.566059   \n",
       "..        ...       ...       ...       ...       ...       ...       ...   \n",
       "395 -1.637231  0.995012 -1.264622  0.946433 -0.748293 -1.005013 -0.009313   \n",
       "396 -0.229894 -1.005013 -1.264622  0.946433 -0.968379  0.995012 -0.509695   \n",
       "397 -0.549534  0.995012 -1.264622 -1.056599 -0.968379  0.995012  0.046285   \n",
       "398 -1.200313 -1.005013  1.417632  0.946433  0.132052  0.995012 -0.676490   \n",
       "399 -1.223308  0.995012 -0.289257 -1.056599  1.012396  0.995012  0.991453   \n",
       "\n",
       "            7         8         9        10        11        12        13  \\\n",
       "0   -0.952194 -1.418952 -1.537778  1.599113  0.574258 -0.719246 -0.515779   \n",
       "1   -0.594562 -1.362658 -0.227172 -0.971679  0.643609  1.650558 -0.252633   \n",
       "2    0.120701  0.016536  1.520303  0.635066 -1.195289 -1.476749  0.998267   \n",
       "3    1.908858  0.072830 -0.227172  1.599113  0.614526  0.038257 -0.635912   \n",
       "4   -0.594562 -0.856015 -1.537778 -0.971679  1.630171  0.540943 -1.021097   \n",
       "..        ...       ...       ...       ...       ...       ...       ...   \n",
       "395  0.120701 -0.011611  1.083434  0.153042  0.639134  0.376470 -0.408995   \n",
       "396 -0.236931  0.635767 -0.227172 -1.453702  0.381868 -0.742411  1.324341   \n",
       "397  1.551226  0.523179  0.646566 -1.614377  0.800206  1.210418  0.130646   \n",
       "398 -0.236931  0.889088 -1.100909 -0.650330 -0.385458  0.559475 -1.784795   \n",
       "399  0.478332  0.269858 -0.227172  1.599113 -0.148325 -0.195712  1.225184   \n",
       "\n",
       "           14        15        16        17        18        19  \n",
       "0   -0.090880 -1.333665  0.543941  0.542677 -1.035635 -1.020204  \n",
       "1   -0.326931  1.048943  0.543941  0.542677  0.965592  0.980196  \n",
       "2   -0.799034  0.334161 -0.150636  0.542677 -1.035635  0.980196  \n",
       "3   -1.271137 -0.618882  1.585806  0.542677  0.965592  0.980196  \n",
       "4   -0.090880  1.048943 -1.192502  0.542677  0.965592  0.980196  \n",
       "..        ...       ...       ...       ...       ...       ...  \n",
       "395  1.089378 -1.333665 -1.018858  0.542677  0.965592  0.980196  \n",
       "396 -1.271137 -0.380622 -0.671569  0.542677 -1.035635 -1.020204  \n",
       "397 -1.271137 -0.142361 -1.192502  0.542677  0.965592 -1.020204  \n",
       "398 -0.090880  0.095900 -1.192502  0.542677  0.965592  0.980196  \n",
       "399  0.381223  0.095900 -0.497925  0.542677  0.965592 -1.020204  \n",
       "\n",
       "[400 rows x 20 columns]"
      ]
     },
     "execution_count": 39,
     "metadata": {},
     "output_type": "execute_result"
    }
   ],
   "source": [
    "scaled_X_test = pd.DataFrame(scaler.fit_transform(X_test))\n",
    "scaled_X_test"
   ]
  },
  {
   "cell_type": "markdown",
   "metadata": {},
   "source": [
    "**Training and Testing the logistic regression with scaled data**"
   ]
  },
  {
   "cell_type": "code",
   "execution_count": 40,
   "metadata": {},
   "outputs": [],
   "source": [
    "from sklearn.linear_model import LogisticRegression"
   ]
  },
  {
   "cell_type": "code",
   "execution_count": 41,
   "metadata": {},
   "outputs": [],
   "source": [
    "lr1 = LogisticRegression(multi_class = 'ovr', solver = 'sag',  max_iter = 10000)"
   ]
  },
  {
   "cell_type": "code",
   "execution_count": 42,
   "metadata": {},
   "outputs": [
    {
     "data": {
      "text/plain": [
       "LogisticRegression(C=1.0, class_weight=None, dual=False, fit_intercept=True,\n",
       "                   intercept_scaling=1, l1_ratio=None, max_iter=10000,\n",
       "                   multi_class='ovr', n_jobs=None, penalty='l2',\n",
       "                   random_state=None, solver='sag', tol=0.0001, verbose=0,\n",
       "                   warm_start=False)"
      ]
     },
     "execution_count": 42,
     "metadata": {},
     "output_type": "execute_result"
    }
   ],
   "source": [
    "lr1.fit(scaled_X_train, y_train)"
   ]
  },
  {
   "cell_type": "code",
   "execution_count": 43,
   "metadata": {},
   "outputs": [],
   "source": [
    "y_train_pred_lr = lr1.predict(scaled_X_train)"
   ]
  },
  {
   "cell_type": "code",
   "execution_count": 44,
   "metadata": {},
   "outputs": [
    {
     "data": {
      "text/plain": [
       "array([3, 2, 0, ..., 0, 3, 0], dtype=int64)"
      ]
     },
     "execution_count": 44,
     "metadata": {},
     "output_type": "execute_result"
    }
   ],
   "source": [
    "y_train_pred_lr"
   ]
  },
  {
   "cell_type": "markdown",
   "metadata": {},
   "source": [
    "**Testing**"
   ]
  },
  {
   "cell_type": "code",
   "execution_count": 45,
   "metadata": {},
   "outputs": [
    {
     "data": {
      "text/plain": [
       "array([[406,   0,   0,   0],\n",
       "       [ 29, 297,  72,   0],\n",
       "       [  0,  78, 272,  30],\n",
       "       [  0,   0,   1, 415]], dtype=int64)"
      ]
     },
     "execution_count": 45,
     "metadata": {},
     "output_type": "execute_result"
    }
   ],
   "source": [
    "confusion_matrix = metrics.confusion_matrix(y_train, y_train_pred_lr) #train\n",
    "confusion_matrix "
   ]
  },
  {
   "cell_type": "markdown",
   "metadata": {},
   "source": [
    "**Training**"
   ]
  },
  {
   "cell_type": "code",
   "execution_count": 46,
   "metadata": {},
   "outputs": [
    {
     "name": "stdout",
     "output_type": "stream",
     "text": [
      "              precision    recall  f1-score   support\n",
      "\n",
      "           0       0.93      1.00      0.97       406\n",
      "           1       0.79      0.75      0.77       398\n",
      "           2       0.79      0.72      0.75       380\n",
      "           3       0.93      1.00      0.96       416\n",
      "\n",
      "    accuracy                           0.87      1600\n",
      "   macro avg       0.86      0.86      0.86      1600\n",
      "weighted avg       0.86      0.87      0.86      1600\n",
      "\n"
     ]
    }
   ],
   "source": [
    "print(classification_report(y_train, y_train_pred_lr))"
   ]
  },
  {
   "cell_type": "code",
   "execution_count": 47,
   "metadata": {},
   "outputs": [],
   "source": [
    "y_test_pred_lr = lr1.predict(scaled_X_test)"
   ]
  },
  {
   "cell_type": "code",
   "execution_count": 48,
   "metadata": {},
   "outputs": [
    {
     "data": {
      "text/plain": [
       "array([[93,  1,  0,  0],\n",
       "       [10, 71, 21,  0],\n",
       "       [ 0, 22, 82, 16],\n",
       "       [ 0,  0,  0, 84]], dtype=int64)"
      ]
     },
     "execution_count": 48,
     "metadata": {},
     "output_type": "execute_result"
    }
   ],
   "source": [
    "confusion_matrix = metrics.confusion_matrix(y_test, y_test_pred_lr)\n",
    "confusion_matrix"
   ]
  },
  {
   "cell_type": "code",
   "execution_count": 49,
   "metadata": {},
   "outputs": [
    {
     "name": "stdout",
     "output_type": "stream",
     "text": [
      "              precision    recall  f1-score   support\n",
      "\n",
      "           0       0.90      0.99      0.94        94\n",
      "           1       0.76      0.70      0.72       102\n",
      "           2       0.80      0.68      0.74       120\n",
      "           3       0.84      1.00      0.91        84\n",
      "\n",
      "    accuracy                           0.82       400\n",
      "   macro avg       0.82      0.84      0.83       400\n",
      "weighted avg       0.82      0.82      0.82       400\n",
      "\n"
     ]
    }
   ],
   "source": [
    "print(classification_report(y_test, y_test_pred_lr))"
   ]
  },
  {
   "cell_type": "code",
   "execution_count": 50,
   "metadata": {},
   "outputs": [
    {
     "data": {
      "text/plain": [
       "0.86875"
      ]
     },
     "execution_count": 50,
     "metadata": {},
     "output_type": "execute_result"
    }
   ],
   "source": [
    "acc_lr = metrics.accuracy_score(y_train, y_train_pred_lr) #train\n",
    "acc_lr"
   ]
  },
  {
   "cell_type": "code",
   "execution_count": 51,
   "metadata": {},
   "outputs": [
    {
     "data": {
      "text/plain": [
       "0.825"
      ]
     },
     "execution_count": 51,
     "metadata": {},
     "output_type": "execute_result"
    }
   ],
   "source": [
    "acc_lr = metrics.accuracy_score(y_test, y_test_pred_lr) #test\n",
    "acc_lr"
   ]
  },
  {
   "cell_type": "markdown",
   "metadata": {},
   "source": [
    "Training accuracy in  scaled logistic regression: 86%\n",
    "\n",
    "Testing accuracy in scaled logistic regression:82% "
   ]
  },
  {
   "cell_type": "code",
   "execution_count": 52,
   "metadata": {},
   "outputs": [
    {
     "data": {
      "image/png": "[encoded data removed]",
      "text/plain": [
       "<Figure size 432x288 with 1 Axes>"
      ]
     },
     "metadata": {
      "needs_background": "light"
     },
     "output_type": "display_data"
    }
   ],
   "source": [
    "models = ['training','testing']\n",
    "acc_scores = [0.86,0.82]\n",
    "plt.barh(models, acc_scores, color=['lightgreen', 'grey' ])\n",
    "plt.ylabel(\"accuracy scores\")\n",
    "plt.title(\"train vs test\")\n",
    "plt.show()"
   ]
  },
  {
   "cell_type": "markdown",
   "metadata": {},
   "source": [
    "Observations:\n",
    "- Training accuracy in scaled logistic regression: 86%\n",
    "\n",
    "- Testing accuracy in scaled logistic regression:82% "
   ]
  },
  {
   "cell_type": "markdown",
   "metadata": {},
   "source": [
    "**Training and testing using Decision Tree**"
   ]
  },
  {
   "cell_type": "code",
   "execution_count": 53,
   "metadata": {},
   "outputs": [],
   "source": [
    "from sklearn.tree import DecisionTreeClassifier"
   ]
  },
  {
   "cell_type": "code",
   "execution_count": 54,
   "metadata": {},
   "outputs": [],
   "source": [
    "dt = DecisionTreeClassifier(random_state=101,criterion='entropy')\n",
    "dt_model = dt.fit(X_train, y_train)"
   ]
  },
  {
   "cell_type": "code",
   "execution_count": 55,
   "metadata": {},
   "outputs": [],
   "source": [
    "y_train_pred_dt=dt.predict(X_train)"
   ]
  },
  {
   "cell_type": "code",
   "execution_count": 56,
   "metadata": {},
   "outputs": [
    {
     "data": {
      "text/plain": [
       "array([[406,   0,   0,   0],\n",
       "       [  0, 398,   0,   0],\n",
       "       [  0,   0, 380,   0],\n",
       "       [  0,   0,   0, 416]], dtype=int64)"
      ]
     },
     "execution_count": 56,
     "metadata": {},
     "output_type": "execute_result"
    }
   ],
   "source": [
    "metrics.confusion_matrix(y_train,y_train_pred_dt)"
   ]
  },
  {
   "cell_type": "code",
   "execution_count": 57,
   "metadata": {},
   "outputs": [
    {
     "name": "stdout",
     "output_type": "stream",
     "text": [
      "              precision    recall  f1-score   support\n",
      "\n",
      "           0       1.00      1.00      1.00       406\n",
      "           1       1.00      1.00      1.00       398\n",
      "           2       1.00      1.00      1.00       380\n",
      "           3       1.00      1.00      1.00       416\n",
      "\n",
      "    accuracy                           1.00      1600\n",
      "   macro avg       1.00      1.00      1.00      1600\n",
      "weighted avg       1.00      1.00      1.00      1600\n",
      "\n"
     ]
    }
   ],
   "source": [
    "print(classification_report(y_train,y_train_pred_dt))"
   ]
  },
  {
   "cell_type": "markdown",
   "metadata": {},
   "source": [
    "**Training**"
   ]
  },
  {
   "cell_type": "code",
   "execution_count": 58,
   "metadata": {},
   "outputs": [
    {
     "data": {
      "text/plain": [
       "1.0"
      ]
     },
     "execution_count": 58,
     "metadata": {},
     "output_type": "execute_result"
    }
   ],
   "source": [
    "accuracy_score(y_train,y_train_pred_dt)"
   ]
  },
  {
   "cell_type": "code",
   "execution_count": 59,
   "metadata": {},
   "outputs": [],
   "source": [
    "y_pred_dt = dt.predict(X_test)"
   ]
  },
  {
   "cell_type": "code",
   "execution_count": 60,
   "metadata": {},
   "outputs": [
    {
     "name": "stdout",
     "output_type": "stream",
     "text": [
      "[[ 86   8   0   0]\n",
      " [  7  84  11   0]\n",
      " [  0  10 100  10]\n",
      " [  0   0   6  78]]\n"
     ]
    }
   ],
   "source": [
    "print(metrics.confusion_matrix(y_test, y_pred_dt))"
   ]
  },
  {
   "cell_type": "code",
   "execution_count": 61,
   "metadata": {},
   "outputs": [
    {
     "name": "stdout",
     "output_type": "stream",
     "text": [
      "              precision    recall  f1-score   support\n",
      "\n",
      "           0       0.92      0.91      0.92        94\n",
      "           1       0.82      0.82      0.82       102\n",
      "           2       0.85      0.83      0.84       120\n",
      "           3       0.89      0.93      0.91        84\n",
      "\n",
      "    accuracy                           0.87       400\n",
      "   macro avg       0.87      0.88      0.87       400\n",
      "weighted avg       0.87      0.87      0.87       400\n",
      "\n"
     ]
    }
   ],
   "source": [
    "print(metrics.classification_report(y_test, y_pred_dt))"
   ]
  },
  {
   "cell_type": "markdown",
   "metadata": {},
   "source": [
    "**Testing**"
   ]
  },
  {
   "cell_type": "code",
   "execution_count": 62,
   "metadata": {},
   "outputs": [
    {
     "data": {
      "text/plain": [
       "0.87"
      ]
     },
     "execution_count": 62,
     "metadata": {},
     "output_type": "execute_result"
    }
   ],
   "source": [
    "acc_dt = metrics.accuracy_score(y_test, y_pred_dt)\n",
    "acc_dt"
   ]
  },
  {
   "cell_type": "code",
   "execution_count": 63,
   "metadata": {},
   "outputs": [
    {
     "data": {
      "image/png": "[encoded data removed]",
      "text/plain": [
       "<Figure size 432x288 with 1 Axes>"
      ]
     },
     "metadata": {
      "needs_background": "light"
     },
     "output_type": "display_data"
    }
   ],
   "source": [
    "models = ['training','testing']\n",
    "acc_scores = [1,0.87]\n",
    "plt.barh(models, acc_scores, color=['lightgreen', 'grey' ])\n",
    "plt.ylabel(\"accuracy scores\")\n",
    "plt.title(\"train vs test\")\n",
    "plt.show()"
   ]
  },
  {
   "cell_type": "markdown",
   "metadata": {},
   "source": [
    "Observations:\n",
    "- Training accuracy in Decision Tree: 100%\n",
    "\n",
    "- Testing accuracy in Decision Tress:87% "
   ]
  },
  {
   "cell_type": "markdown",
   "metadata": {},
   "source": [
    "**Tree Visiualization:**"
   ]
  },
  {
   "cell_type": "code",
   "execution_count": 64,
   "metadata": {},
   "outputs": [
    {
     "data": {
      "image/png": "[encoded data removed]",
      "text/plain": [
       "<Figure size 720x720 with 1 Axes>"
      ]
     },
     "metadata": {
      "needs_background": "light"
     },
     "output_type": "display_data"
    }
   ],
   "source": [
    "import matplotlib.pyplot as plt\n",
    "from sklearn import tree\n",
    "plt.figure(figsize=(10,10))\n",
    "tree.plot_tree(dt)\n",
    "plt.show()"
   ]
  },
  {
   "cell_type": "markdown",
   "metadata": {},
   "source": [
    "**We use Grid Search cv to increse the testing accuracy in decision tree**"
   ]
  },
  {
   "cell_type": "code",
   "execution_count": 65,
   "metadata": {},
   "outputs": [
    {
     "data": {
      "text/plain": [
       "{'criterion': 'entropy',\n",
       " 'max_depth': 7,\n",
       " 'min_samples_leaf': 1,\n",
       " 'splitter': 'best'}"
      ]
     },
     "execution_count": 65,
     "metadata": {},
     "output_type": "execute_result"
    }
   ],
   "source": [
    "from sklearn.tree import DecisionTreeClassifier\n",
    "dt=DecisionTreeClassifier()\n",
    "grid_params={\n",
    "    'criterion':['gini', 'entropy'],\n",
    "    'splitter':['best','random'],\n",
    "    'max_depth': range(1,11,2),\n",
    "    'min_samples_leaf':range(1,6,3)\n",
    "}\n",
    "from sklearn.model_selection import GridSearchCV\n",
    "grid=GridSearchCV(estimator=dt,param_grid=grid_params)\n",
    "grid.fit(X_train,y_train)\n",
    "grid.best_params_"
   ]
  },
  {
   "cell_type": "markdown",
   "metadata": {},
   "source": [
    "Building the model with parameters"
   ]
  },
  {
   "cell_type": "code",
   "execution_count": 66,
   "metadata": {},
   "outputs": [
    {
     "data": {
      "text/plain": [
       "DecisionTreeClassifier(ccp_alpha=0.0, class_weight=None, criterion='entropy',\n",
       "                       max_depth=9, max_features=None, max_leaf_nodes=None,\n",
       "                       min_impurity_decrease=0.0, min_impurity_split=None,\n",
       "                       min_samples_leaf=6, min_samples_split=2,\n",
       "                       min_weight_fraction_leaf=0.0, presort='deprecated',\n",
       "                       random_state=None, splitter='best')"
      ]
     },
     "execution_count": 66,
     "metadata": {},
     "output_type": "execute_result"
    }
   ],
   "source": [
    "final_model=DecisionTreeClassifier(criterion='entropy',\n",
    "                                   max_depth=9,\n",
    "                                   min_samples_leaf=6,\n",
    "                                   splitter='best')\n",
    "final_model.fit(X_train,y_train)"
   ]
  },
  {
   "cell_type": "markdown",
   "metadata": {},
   "source": [
    "Predicting the test data"
   ]
  },
  {
   "cell_type": "code",
   "execution_count": 67,
   "metadata": {},
   "outputs": [],
   "source": [
    "pred_test = final_model.predict(X_test)"
   ]
  },
  {
   "cell_type": "markdown",
   "metadata": {},
   "source": [
    "classification report of actual values and predicted values(gridsearch)"
   ]
  },
  {
   "cell_type": "code",
   "execution_count": 68,
   "metadata": {},
   "outputs": [
    {
     "name": "stdout",
     "output_type": "stream",
     "text": [
      "              precision    recall  f1-score   support\n",
      "\n",
      "           0       0.92      0.94      0.93        94\n",
      "           1       0.78      0.88      0.83       102\n",
      "           2       0.90      0.78      0.83       120\n",
      "           3       0.92      0.93      0.92        84\n",
      "\n",
      "    accuracy                           0.87       400\n",
      "   macro avg       0.88      0.88      0.88       400\n",
      "weighted avg       0.88      0.87      0.87       400\n",
      "\n"
     ]
    }
   ],
   "source": [
    "print(classification_report(y_test,pred_test))"
   ]
  },
  {
   "cell_type": "markdown",
   "metadata": {},
   "source": [
    "**Testing Accuracy**"
   ]
  },
  {
   "cell_type": "code",
   "execution_count": 69,
   "metadata": {},
   "outputs": [
    {
     "data": {
      "text/plain": [
       "0.8725"
      ]
     },
     "execution_count": 69,
     "metadata": {},
     "output_type": "execute_result"
    }
   ],
   "source": [
    "acc_dt = metrics.accuracy_score(y_test, pred_test)\n",
    "acc_dt"
   ]
  },
  {
   "cell_type": "markdown",
   "metadata": {},
   "source": [
    "In grid based Cv Accuracy of decision tree testing accuracy is 87%"
   ]
  },
  {
   "cell_type": "markdown",
   "metadata": {},
   "source": [
    "**Testing and training using Random Forest :**"
   ]
  },
  {
   "cell_type": "code",
   "execution_count": 70,
   "metadata": {},
   "outputs": [],
   "source": [
    "from sklearn.ensemble import RandomForestClassifier\n",
    "# initialize the object for RFC\n",
    "rf = RandomForestClassifier(n_estimators = 100, random_state=101, criterion = 'entropy', oob_score = True) \n",
    "model_rf = rf.fit(X_train, y_train)"
   ]
  },
  {
   "cell_type": "code",
   "execution_count": 71,
   "metadata": {},
   "outputs": [
    {
     "name": "stdout",
     "output_type": "stream",
     "text": [
      "              precision    recall  f1-score   support\n",
      "\n",
      "           0       1.00      1.00      1.00       406\n",
      "           1       1.00      1.00      1.00       398\n",
      "           2       1.00      1.00      1.00       380\n",
      "           3       1.00      1.00      1.00       416\n",
      "\n",
      "    accuracy                           1.00      1600\n",
      "   macro avg       1.00      1.00      1.00      1600\n",
      "weighted avg       1.00      1.00      1.00      1600\n",
      "\n"
     ]
    }
   ],
   "source": [
    "y_pred_train_1113 = rf.predict(X_train)\n",
    "from sklearn.metrics import confusion_matrix, classification_report\n",
    "print(classification_report(y_train, y_pred_train_1113))"
   ]
  },
  {
   "cell_type": "markdown",
   "metadata": {},
   "source": [
    "Prediction on test data"
   ]
  },
  {
   "cell_type": "code",
   "execution_count": 72,
   "metadata": {},
   "outputs": [
    {
     "name": "stdout",
     "output_type": "stream",
     "text": [
      "[[ 87   7   0   0]\n",
      " [  7  85  10   0]\n",
      " [  0  14 100   6]\n",
      " [  0   0   3  81]]\n"
     ]
    }
   ],
   "source": [
    "y_pred_rf = rf.predict(X_test)\n",
    "print(metrics.confusion_matrix(y_test, y_pred_rf))"
   ]
  },
  {
   "cell_type": "code",
   "execution_count": 73,
   "metadata": {},
   "outputs": [
    {
     "name": "stdout",
     "output_type": "stream",
     "text": [
      "              precision    recall  f1-score   support\n",
      "\n",
      "           0       0.93      0.93      0.93        94\n",
      "           1       0.80      0.83      0.82       102\n",
      "           2       0.88      0.83      0.86       120\n",
      "           3       0.93      0.96      0.95        84\n",
      "\n",
      "    accuracy                           0.88       400\n",
      "   macro avg       0.89      0.89      0.89       400\n",
      "weighted avg       0.88      0.88      0.88       400\n",
      "\n"
     ]
    }
   ],
   "source": [
    "print(classification_report(y_test, y_pred_rf))"
   ]
  },
  {
   "cell_type": "code",
   "execution_count": 74,
   "metadata": {},
   "outputs": [
    {
     "data": {
      "text/plain": [
       "0.8825"
      ]
     },
     "execution_count": 74,
     "metadata": {},
     "output_type": "execute_result"
    }
   ],
   "source": [
    "acc_rf = metrics.accuracy_score(y_test, y_pred_rf)\n",
    "acc_rf"
   ]
  },
  {
   "cell_type": "markdown",
   "metadata": {},
   "source": [
    "Testing accuracy of randomforest is 88%"
   ]
  },
  {
   "cell_type": "code",
   "execution_count": 75,
   "metadata": {},
   "outputs": [
    {
     "data": {
      "image/png": "[encoded data removed]",
      "text/plain": [
       "<Figure size 432x288 with 1 Axes>"
      ]
     },
     "metadata": {
      "needs_background": "light"
     },
     "output_type": "display_data"
    }
   ],
   "source": [
    "models = ['training','testing']\n",
    "acc_scores = [1,0.88]\n",
    "plt.barh(models, acc_scores, color=['lightgreen', 'grey' ])\n",
    "plt.ylabel(\"accuracy scores\")\n",
    "plt.title(\"train vs test\")\n",
    "plt.show()"
   ]
  },
  {
   "cell_type": "markdown",
   "metadata": {},
   "source": [
    "Observations:\n",
    "- Training accuracy in Random Forest: 100%\n",
    "\n",
    "- Testing accuracy in Random Forest:88% "
   ]
  },
  {
   "cell_type": "markdown",
   "metadata": {},
   "source": [
    "**Predicting the best algorith among logistic regression, sacled logistic regression, decision tree, random forest**"
   ]
  },
  {
   "cell_type": "code",
   "execution_count": 76,
   "metadata": {},
   "outputs": [
    {
     "data": {
      "image/png": "[encoded data removed]",
      "text/plain": [
       "<Figure size 432x288 with 1 Axes>"
      ]
     },
     "metadata": {
      "needs_background": "light"
     },
     "output_type": "display_data"
    }
   ],
   "source": [
    "models = ['scaled Logistic regression','logistic regression', 'decision tree','Random Forest']\n",
    "acc_scores = [0.82, 0.64, 0.87,0.882]\n",
    "plt.bar(models, acc_scores, color=['lightblue', 'pink', 'lightgrey'])\n",
    "plt.ylabel(\"accuracy scores\")\n",
    "plt.title(\"Which model is the most accurate?\")\n",
    "plt.show()"
   ]
  },
  {
   "cell_type": "markdown",
   "metadata": {},
   "source": [
    "Observations:\n",
    "- Testing accuracy of logistic regression is 64%\n",
    "- Testing accuracy of scaled logistic regression is 82%\n",
    "- Testing accuracy of Decision tree is 87%\n",
    "- Testing accuracy of Random Forest is 88%"
   ]
  },
  {
   "cell_type": "markdown",
   "metadata": {},
   "source": [
    "Here we got highest accuracy for Random Forest "
   ]
  },
  {
   "cell_type": "markdown",
   "metadata": {},
   "source": [
    "**So we choose Random Forest Algorithm**"
   ]
  },
  {
   "cell_type": "markdown",
   "metadata": {},
   "source": [
    "**Prediction on testing dataset**"
   ]
  },
  {
   "cell_type": "code",
   "execution_count": 77,
   "metadata": {},
   "outputs": [],
   "source": [
    "df_test=pd.read_csv('https://raw.githubusercontent.com/vangapatiMukesh/AI-ML/master/test.csv')"
   ]
  },
  {
   "cell_type": "code",
   "execution_count": 78,
   "metadata": {},
   "outputs": [
    {
     "data": {
      "text/html": [
       "<div>\n",
       "<style scoped>\n",
       "    .dataframe tbody tr th:only-of-type {\n",
       "        vertical-align: middle;\n",
       "    }\n",
       "\n",
       "    .dataframe tbody tr th {\n",
       "        vertical-align: top;\n",
       "    }\n",
       "\n",
       "    .dataframe thead th {\n",
       "        text-align: right;\n",
       "    }\n",
       "</style>\n",
       "<table border=\"1\" class=\"dataframe\">\n",
       "  <thead>\n",
       "    <tr style=\"text-align: right;\">\n",
       "      <th></th>\n",
       "      <th>id</th>\n",
       "      <th>battery_power</th>\n",
       "      <th>blue</th>\n",
       "      <th>clock_speed</th>\n",
       "      <th>dual_sim</th>\n",
       "      <th>fc</th>\n",
       "      <th>four_g</th>\n",
       "      <th>int_memory</th>\n",
       "      <th>m_dep</th>\n",
       "      <th>mobile_wt</th>\n",
       "      <th>...</th>\n",
       "      <th>pc</th>\n",
       "      <th>px_height</th>\n",
       "      <th>px_width</th>\n",
       "      <th>ram</th>\n",
       "      <th>sc_h</th>\n",
       "      <th>sc_w</th>\n",
       "      <th>talk_time</th>\n",
       "      <th>three_g</th>\n",
       "      <th>touch_screen</th>\n",
       "      <th>wifi</th>\n",
       "    </tr>\n",
       "  </thead>\n",
       "  <tbody>\n",
       "    <tr>\n",
       "      <th>0</th>\n",
       "      <td>1</td>\n",
       "      <td>1043</td>\n",
       "      <td>1</td>\n",
       "      <td>1.8</td>\n",
       "      <td>1</td>\n",
       "      <td>14</td>\n",
       "      <td>0</td>\n",
       "      <td>5</td>\n",
       "      <td>0.1</td>\n",
       "      <td>193</td>\n",
       "      <td>...</td>\n",
       "      <td>16</td>\n",
       "      <td>226</td>\n",
       "      <td>1412</td>\n",
       "      <td>3476</td>\n",
       "      <td>12</td>\n",
       "      <td>7</td>\n",
       "      <td>2</td>\n",
       "      <td>0</td>\n",
       "      <td>1</td>\n",
       "      <td>0</td>\n",
       "    </tr>\n",
       "    <tr>\n",
       "      <th>1</th>\n",
       "      <td>2</td>\n",
       "      <td>841</td>\n",
       "      <td>1</td>\n",
       "      <td>0.5</td>\n",
       "      <td>1</td>\n",
       "      <td>4</td>\n",
       "      <td>1</td>\n",
       "      <td>61</td>\n",
       "      <td>0.8</td>\n",
       "      <td>191</td>\n",
       "      <td>...</td>\n",
       "      <td>12</td>\n",
       "      <td>746</td>\n",
       "      <td>857</td>\n",
       "      <td>3895</td>\n",
       "      <td>6</td>\n",
       "      <td>0</td>\n",
       "      <td>7</td>\n",
       "      <td>1</td>\n",
       "      <td>0</td>\n",
       "      <td>0</td>\n",
       "    </tr>\n",
       "    <tr>\n",
       "      <th>2</th>\n",
       "      <td>3</td>\n",
       "      <td>1807</td>\n",
       "      <td>1</td>\n",
       "      <td>2.8</td>\n",
       "      <td>0</td>\n",
       "      <td>1</td>\n",
       "      <td>0</td>\n",
       "      <td>27</td>\n",
       "      <td>0.9</td>\n",
       "      <td>186</td>\n",
       "      <td>...</td>\n",
       "      <td>4</td>\n",
       "      <td>1270</td>\n",
       "      <td>1366</td>\n",
       "      <td>2396</td>\n",
       "      <td>17</td>\n",
       "      <td>10</td>\n",
       "      <td>10</td>\n",
       "      <td>0</td>\n",
       "      <td>1</td>\n",
       "      <td>1</td>\n",
       "    </tr>\n",
       "    <tr>\n",
       "      <th>3</th>\n",
       "      <td>4</td>\n",
       "      <td>1546</td>\n",
       "      <td>0</td>\n",
       "      <td>0.5</td>\n",
       "      <td>1</td>\n",
       "      <td>18</td>\n",
       "      <td>1</td>\n",
       "      <td>25</td>\n",
       "      <td>0.5</td>\n",
       "      <td>96</td>\n",
       "      <td>...</td>\n",
       "      <td>20</td>\n",
       "      <td>295</td>\n",
       "      <td>1752</td>\n",
       "      <td>3893</td>\n",
       "      <td>10</td>\n",
       "      <td>0</td>\n",
       "      <td>7</td>\n",
       "      <td>1</td>\n",
       "      <td>1</td>\n",
       "      <td>0</td>\n",
       "    </tr>\n",
       "    <tr>\n",
       "      <th>4</th>\n",
       "      <td>5</td>\n",
       "      <td>1434</td>\n",
       "      <td>0</td>\n",
       "      <td>1.4</td>\n",
       "      <td>0</td>\n",
       "      <td>11</td>\n",
       "      <td>1</td>\n",
       "      <td>49</td>\n",
       "      <td>0.5</td>\n",
       "      <td>108</td>\n",
       "      <td>...</td>\n",
       "      <td>18</td>\n",
       "      <td>749</td>\n",
       "      <td>810</td>\n",
       "      <td>1773</td>\n",
       "      <td>15</td>\n",
       "      <td>8</td>\n",
       "      <td>7</td>\n",
       "      <td>1</td>\n",
       "      <td>0</td>\n",
       "      <td>1</td>\n",
       "    </tr>\n",
       "  </tbody>\n",
       "</table>\n",
       "<p>5 rows × 21 columns</p>\n",
       "</div>"
      ],
      "text/plain": [
       "   id  battery_power  blue  clock_speed  dual_sim  fc  four_g  int_memory  \\\n",
       "0   1           1043     1          1.8         1  14       0           5   \n",
       "1   2            841     1          0.5         1   4       1          61   \n",
       "2   3           1807     1          2.8         0   1       0          27   \n",
       "3   4           1546     0          0.5         1  18       1          25   \n",
       "4   5           1434     0          1.4         0  11       1          49   \n",
       "\n",
       "   m_dep  mobile_wt  ...  pc  px_height  px_width   ram  sc_h  sc_w  \\\n",
       "0    0.1        193  ...  16        226      1412  3476    12     7   \n",
       "1    0.8        191  ...  12        746       857  3895     6     0   \n",
       "2    0.9        186  ...   4       1270      1366  2396    17    10   \n",
       "3    0.5         96  ...  20        295      1752  3893    10     0   \n",
       "4    0.5        108  ...  18        749       810  1773    15     8   \n",
       "\n",
       "   talk_time  three_g  touch_screen  wifi  \n",
       "0          2        0             1     0  \n",
       "1          7        1             0     0  \n",
       "2         10        0             1     1  \n",
       "3          7        1             1     0  \n",
       "4          7        1             0     1  \n",
       "\n",
       "[5 rows x 21 columns]"
      ]
     },
     "execution_count": 78,
     "metadata": {},
     "output_type": "execute_result"
    }
   ],
   "source": [
    "df_test.head()"
   ]
  },
  {
   "cell_type": "markdown",
   "metadata": {},
   "source": [
    "**Drop the id column**"
   ]
  },
  {
   "cell_type": "code",
   "execution_count": 79,
   "metadata": {},
   "outputs": [],
   "source": [
    "df_test=df_test.drop('id',axis=1)"
   ]
  },
  {
   "cell_type": "code",
   "execution_count": 80,
   "metadata": {},
   "outputs": [
    {
     "data": {
      "text/html": [
       "<div>\n",
       "<style scoped>\n",
       "    .dataframe tbody tr th:only-of-type {\n",
       "        vertical-align: middle;\n",
       "    }\n",
       "\n",
       "    .dataframe tbody tr th {\n",
       "        vertical-align: top;\n",
       "    }\n",
       "\n",
       "    .dataframe thead th {\n",
       "        text-align: right;\n",
       "    }\n",
       "</style>\n",
       "<table border=\"1\" class=\"dataframe\">\n",
       "  <thead>\n",
       "    <tr style=\"text-align: right;\">\n",
       "      <th></th>\n",
       "      <th>battery_power</th>\n",
       "      <th>blue</th>\n",
       "      <th>clock_speed</th>\n",
       "      <th>dual_sim</th>\n",
       "      <th>fc</th>\n",
       "      <th>four_g</th>\n",
       "      <th>int_memory</th>\n",
       "      <th>m_dep</th>\n",
       "      <th>mobile_wt</th>\n",
       "      <th>n_cores</th>\n",
       "      <th>pc</th>\n",
       "      <th>px_height</th>\n",
       "      <th>px_width</th>\n",
       "      <th>ram</th>\n",
       "      <th>sc_h</th>\n",
       "      <th>sc_w</th>\n",
       "      <th>talk_time</th>\n",
       "      <th>three_g</th>\n",
       "      <th>touch_screen</th>\n",
       "      <th>wifi</th>\n",
       "    </tr>\n",
       "  </thead>\n",
       "  <tbody>\n",
       "    <tr>\n",
       "      <th>0</th>\n",
       "      <td>1043</td>\n",
       "      <td>1</td>\n",
       "      <td>1.8</td>\n",
       "      <td>1</td>\n",
       "      <td>14</td>\n",
       "      <td>0</td>\n",
       "      <td>5</td>\n",
       "      <td>0.1</td>\n",
       "      <td>193</td>\n",
       "      <td>3</td>\n",
       "      <td>16</td>\n",
       "      <td>226</td>\n",
       "      <td>1412</td>\n",
       "      <td>3476</td>\n",
       "      <td>12</td>\n",
       "      <td>7</td>\n",
       "      <td>2</td>\n",
       "      <td>0</td>\n",
       "      <td>1</td>\n",
       "      <td>0</td>\n",
       "    </tr>\n",
       "    <tr>\n",
       "      <th>1</th>\n",
       "      <td>841</td>\n",
       "      <td>1</td>\n",
       "      <td>0.5</td>\n",
       "      <td>1</td>\n",
       "      <td>4</td>\n",
       "      <td>1</td>\n",
       "      <td>61</td>\n",
       "      <td>0.8</td>\n",
       "      <td>191</td>\n",
       "      <td>5</td>\n",
       "      <td>12</td>\n",
       "      <td>746</td>\n",
       "      <td>857</td>\n",
       "      <td>3895</td>\n",
       "      <td>6</td>\n",
       "      <td>0</td>\n",
       "      <td>7</td>\n",
       "      <td>1</td>\n",
       "      <td>0</td>\n",
       "      <td>0</td>\n",
       "    </tr>\n",
       "    <tr>\n",
       "      <th>2</th>\n",
       "      <td>1807</td>\n",
       "      <td>1</td>\n",
       "      <td>2.8</td>\n",
       "      <td>0</td>\n",
       "      <td>1</td>\n",
       "      <td>0</td>\n",
       "      <td>27</td>\n",
       "      <td>0.9</td>\n",
       "      <td>186</td>\n",
       "      <td>3</td>\n",
       "      <td>4</td>\n",
       "      <td>1270</td>\n",
       "      <td>1366</td>\n",
       "      <td>2396</td>\n",
       "      <td>17</td>\n",
       "      <td>10</td>\n",
       "      <td>10</td>\n",
       "      <td>0</td>\n",
       "      <td>1</td>\n",
       "      <td>1</td>\n",
       "    </tr>\n",
       "    <tr>\n",
       "      <th>3</th>\n",
       "      <td>1546</td>\n",
       "      <td>0</td>\n",
       "      <td>0.5</td>\n",
       "      <td>1</td>\n",
       "      <td>18</td>\n",
       "      <td>1</td>\n",
       "      <td>25</td>\n",
       "      <td>0.5</td>\n",
       "      <td>96</td>\n",
       "      <td>8</td>\n",
       "      <td>20</td>\n",
       "      <td>295</td>\n",
       "      <td>1752</td>\n",
       "      <td>3893</td>\n",
       "      <td>10</td>\n",
       "      <td>0</td>\n",
       "      <td>7</td>\n",
       "      <td>1</td>\n",
       "      <td>1</td>\n",
       "      <td>0</td>\n",
       "    </tr>\n",
       "    <tr>\n",
       "      <th>4</th>\n",
       "      <td>1434</td>\n",
       "      <td>0</td>\n",
       "      <td>1.4</td>\n",
       "      <td>0</td>\n",
       "      <td>11</td>\n",
       "      <td>1</td>\n",
       "      <td>49</td>\n",
       "      <td>0.5</td>\n",
       "      <td>108</td>\n",
       "      <td>6</td>\n",
       "      <td>18</td>\n",
       "      <td>749</td>\n",
       "      <td>810</td>\n",
       "      <td>1773</td>\n",
       "      <td>15</td>\n",
       "      <td>8</td>\n",
       "      <td>7</td>\n",
       "      <td>1</td>\n",
       "      <td>0</td>\n",
       "      <td>1</td>\n",
       "    </tr>\n",
       "  </tbody>\n",
       "</table>\n",
       "</div>"
      ],
      "text/plain": [
       "   battery_power  blue  clock_speed  dual_sim  fc  four_g  int_memory  m_dep  \\\n",
       "0           1043     1          1.8         1  14       0           5    0.1   \n",
       "1            841     1          0.5         1   4       1          61    0.8   \n",
       "2           1807     1          2.8         0   1       0          27    0.9   \n",
       "3           1546     0          0.5         1  18       1          25    0.5   \n",
       "4           1434     0          1.4         0  11       1          49    0.5   \n",
       "\n",
       "   mobile_wt  n_cores  pc  px_height  px_width   ram  sc_h  sc_w  talk_time  \\\n",
       "0        193        3  16        226      1412  3476    12     7          2   \n",
       "1        191        5  12        746       857  3895     6     0          7   \n",
       "2        186        3   4       1270      1366  2396    17    10         10   \n",
       "3         96        8  20        295      1752  3893    10     0          7   \n",
       "4        108        6  18        749       810  1773    15     8          7   \n",
       "\n",
       "   three_g  touch_screen  wifi  \n",
       "0        0             1     0  \n",
       "1        1             0     0  \n",
       "2        0             1     1  \n",
       "3        1             1     0  \n",
       "4        1             0     1  "
      ]
     },
     "execution_count": 80,
     "metadata": {},
     "output_type": "execute_result"
    }
   ],
   "source": [
    "df_test.head()"
   ]
  },
  {
   "cell_type": "code",
   "execution_count": 81,
   "metadata": {},
   "outputs": [],
   "source": [
    "predicted_price_range = rf.predict(df_test)"
   ]
  },
  {
   "cell_type": "code",
   "execution_count": 82,
   "metadata": {},
   "outputs": [
    {
     "data": {
      "text/plain": [
       "array([3, 3, 2, 3, 1, 3, 3, 1, 3, 0, 3, 3, 0, 0, 2, 0, 2, 1, 3, 2, 1, 3,\n",
       "       1, 1, 3, 0, 2, 0, 3, 0, 2, 0, 3, 0, 0, 1, 3, 1, 2, 1, 1, 2, 0, 0,\n",
       "       0, 0, 0, 3, 1, 2, 1, 0, 3, 0, 3, 1, 3, 1, 1, 3, 3, 2, 0, 1, 1, 1,\n",
       "       1, 2, 1, 2, 1, 2, 2, 3, 3, 0, 2, 0, 2, 3, 0, 3, 3, 0, 3, 0, 3, 1,\n",
       "       3, 0, 1, 1, 2, 0, 2, 1, 0, 2, 1, 3, 1, 0, 0, 3, 1, 2, 0, 1, 2, 3,\n",
       "       3, 3, 1, 3, 3, 3, 3, 1, 3, 0, 0, 3, 2, 1, 1, 0, 3, 2, 3, 1, 0, 2,\n",
       "       1, 1, 3, 1, 1, 0, 3, 2, 1, 3, 1, 3, 2, 3, 3, 3, 2, 3, 2, 3, 0, 0,\n",
       "       3, 2, 3, 3, 3, 3, 2, 2, 3, 3, 3, 3, 1, 0, 3, 0, 0, 0, 1, 1, 0, 1,\n",
       "       0, 0, 1, 2, 0, 0, 0, 1, 2, 2, 2, 1, 0, 0, 0, 1, 0, 3, 1, 0, 2, 2,\n",
       "       2, 3, 1, 2, 3, 3, 3, 1, 2, 1, 0, 0, 1, 2, 0, 2, 3, 3, 0, 2, 0, 3,\n",
       "       2, 3, 3, 0, 0, 1, 0, 3, 0, 1, 0, 2, 2, 1, 3, 0, 3, 0, 3, 1, 2, 0,\n",
       "       0, 2, 1, 3, 3, 3, 1, 1, 3, 0, 0, 2, 3, 3, 1, 3, 1, 1, 3, 2, 1, 2,\n",
       "       3, 3, 3, 1, 0, 1, 1, 3, 1, 1, 3, 2, 0, 3, 0, 1, 2, 0, 0, 3, 2, 3,\n",
       "       3, 2, 1, 3, 3, 2, 3, 2, 2, 1, 1, 0, 2, 3, 1, 0, 0, 3, 0, 3, 0, 1,\n",
       "       2, 0, 2, 3, 1, 3, 2, 2, 1, 2, 0, 0, 0, 1, 3, 2, 0, 0, 0, 3, 1, 0,\n",
       "       3, 3, 1, 2, 3, 2, 3, 1, 3, 3, 2, 2, 3, 3, 3, 0, 3, 0, 3, 1, 3, 1,\n",
       "       2, 3, 0, 1, 1, 3, 1, 3, 1, 3, 0, 0, 0, 0, 2, 0, 0, 2, 1, 1, 2, 3,\n",
       "       2, 0, 1, 0, 0, 3, 3, 0, 3, 1, 2, 2, 1, 1, 3, 1, 1, 2, 2, 1, 2, 0,\n",
       "       1, 1, 0, 3, 2, 0, 0, 1, 0, 0, 1, 0, 0, 0, 0, 2, 2, 3, 2, 3, 0, 3,\n",
       "       0, 3, 0, 1, 0, 1, 2, 0, 3, 2, 3, 3, 1, 3, 1, 3, 1, 3, 2, 1, 2, 2,\n",
       "       1, 1, 0, 0, 0, 1, 2, 1, 0, 3, 3, 0, 2, 3, 0, 0, 3, 1, 1, 1, 3, 2,\n",
       "       3, 0, 3, 0, 2, 3, 2, 3, 0, 2, 0, 2, 2, 0, 1, 1, 0, 0, 1, 1, 2, 3,\n",
       "       3, 3, 2, 3, 1, 1, 2, 3, 3, 3, 1, 0, 2, 2, 2, 2, 1, 0, 2, 2, 0, 0,\n",
       "       0, 3, 1, 0, 2, 2, 2, 0, 3, 0, 2, 2, 0, 3, 0, 2, 3, 0, 1, 1, 3, 3,\n",
       "       1, 1, 2, 3, 2, 0, 2, 1, 2, 0, 3, 3, 1, 3, 2, 2, 3, 0, 1, 2, 3, 1,\n",
       "       3, 2, 3, 1, 1, 1, 0, 3, 1, 0, 3, 2, 3, 2, 0, 3, 3, 3, 2, 3, 2, 1,\n",
       "       1, 0, 2, 3, 3, 1, 0, 1, 1, 1, 2, 2, 0, 0, 2, 2, 3, 2, 0, 2, 1, 3,\n",
       "       3, 0, 1, 3, 1, 2, 1, 0, 0, 0, 2, 1, 0, 1, 1, 2, 2, 0, 2, 2, 1, 0,\n",
       "       3, 0, 0, 3, 2, 0, 0, 0, 0, 0, 3, 0, 3, 0, 3, 2, 1, 3, 2, 0, 1, 1,\n",
       "       3, 2, 3, 2, 0, 3, 0, 2, 0, 2, 0, 0, 1, 1, 1, 2, 1, 3, 1, 3, 2, 2,\n",
       "       1, 3, 2, 0, 1, 3, 0, 3, 3, 0, 2, 1, 1, 2, 0, 3, 2, 0, 2, 2, 3, 0,\n",
       "       0, 3, 0, 2, 2, 3, 2, 1, 2, 2, 1, 2, 3, 0, 1, 1, 1, 2, 1, 0, 0, 1,\n",
       "       0, 0, 3, 0, 1, 1, 0, 1, 1, 0, 3, 0, 3, 2, 3, 0, 0, 1, 2, 2, 1, 0,\n",
       "       1, 1, 0, 1, 1, 0, 0, 3, 3, 0, 3, 1, 2, 3, 0, 1, 0, 1, 2, 0, 3, 1,\n",
       "       0, 3, 0, 1, 0, 3, 3, 3, 2, 3, 0, 3, 2, 0, 1, 0, 3, 3, 2, 0, 2, 1,\n",
       "       3, 1, 0, 3, 2, 0, 3, 1, 1, 1, 1, 1, 3, 1, 1, 1, 2, 0, 0, 1, 2, 0,\n",
       "       2, 0, 0, 0, 0, 3, 3, 3, 3, 0, 1, 2, 1, 1, 0, 0, 2, 1, 0, 2, 0, 2,\n",
       "       2, 2, 2, 2, 0, 2, 1, 3, 0, 0, 3, 1, 3, 0, 0, 2, 3, 3, 1, 2, 2, 1,\n",
       "       0, 0, 2, 3, 0, 3, 0, 0, 0, 2, 2, 1, 2, 0, 3, 2, 1, 2, 3, 3, 0, 1,\n",
       "       1, 2, 1, 2, 2, 0, 1, 3, 1, 1, 3, 1, 2, 3, 2, 1, 1, 2, 3, 3, 0, 2,\n",
       "       3, 0, 2, 3, 2, 2, 2, 3, 2, 0, 1, 2, 0, 2, 1, 1, 2, 2, 2, 1, 2, 0,\n",
       "       0, 1, 3, 1, 0, 1, 1, 3, 1, 0, 0, 3, 2, 2, 3, 0, 3, 2, 2, 1, 3, 0,\n",
       "       1, 3, 1, 2, 1, 1, 3, 2, 0, 3, 0, 2, 3, 0, 2, 1, 3, 3, 1, 1, 2, 2,\n",
       "       1, 0, 1, 1, 2, 1, 3, 0, 2, 2, 0, 2, 3, 2, 3, 0, 2, 1, 1, 2, 2, 3,\n",
       "       3, 0, 2, 1, 2, 1, 3, 1, 1, 3, 0, 1, 0, 0, 3, 2, 2, 0, 0, 0, 0, 3,\n",
       "       2, 3, 3, 0, 0, 2, 1, 0, 2, 2], dtype=int64)"
      ]
     },
     "execution_count": 82,
     "metadata": {},
     "output_type": "execute_result"
    }
   ],
   "source": [
    "predicted_price_range"
   ]
  },
  {
   "cell_type": "markdown",
   "metadata": {},
   "source": [
    "**Adding the new column \"price_range\" in the test dataset**"
   ]
  },
  {
   "cell_type": "code",
   "execution_count": 83,
   "metadata": {},
   "outputs": [],
   "source": [
    "df_test['price_range'] = predicted_price_range"
   ]
  },
  {
   "cell_type": "code",
   "execution_count": 84,
   "metadata": {},
   "outputs": [
    {
     "data": {
      "text/html": [
       "<div>\n",
       "<style scoped>\n",
       "    .dataframe tbody tr th:only-of-type {\n",
       "        vertical-align: middle;\n",
       "    }\n",
       "\n",
       "    .dataframe tbody tr th {\n",
       "        vertical-align: top;\n",
       "    }\n",
       "\n",
       "    .dataframe thead th {\n",
       "        text-align: right;\n",
       "    }\n",
       "</style>\n",
       "<table border=\"1\" class=\"dataframe\">\n",
       "  <thead>\n",
       "    <tr style=\"text-align: right;\">\n",
       "      <th></th>\n",
       "      <th>battery_power</th>\n",
       "      <th>blue</th>\n",
       "      <th>clock_speed</th>\n",
       "      <th>dual_sim</th>\n",
       "      <th>fc</th>\n",
       "      <th>four_g</th>\n",
       "      <th>int_memory</th>\n",
       "      <th>m_dep</th>\n",
       "      <th>mobile_wt</th>\n",
       "      <th>n_cores</th>\n",
       "      <th>...</th>\n",
       "      <th>px_height</th>\n",
       "      <th>px_width</th>\n",
       "      <th>ram</th>\n",
       "      <th>sc_h</th>\n",
       "      <th>sc_w</th>\n",
       "      <th>talk_time</th>\n",
       "      <th>three_g</th>\n",
       "      <th>touch_screen</th>\n",
       "      <th>wifi</th>\n",
       "      <th>price_range</th>\n",
       "    </tr>\n",
       "  </thead>\n",
       "  <tbody>\n",
       "    <tr>\n",
       "      <th>0</th>\n",
       "      <td>1043</td>\n",
       "      <td>1</td>\n",
       "      <td>1.8</td>\n",
       "      <td>1</td>\n",
       "      <td>14</td>\n",
       "      <td>0</td>\n",
       "      <td>5</td>\n",
       "      <td>0.1</td>\n",
       "      <td>193</td>\n",
       "      <td>3</td>\n",
       "      <td>...</td>\n",
       "      <td>226</td>\n",
       "      <td>1412</td>\n",
       "      <td>3476</td>\n",
       "      <td>12</td>\n",
       "      <td>7</td>\n",
       "      <td>2</td>\n",
       "      <td>0</td>\n",
       "      <td>1</td>\n",
       "      <td>0</td>\n",
       "      <td>3</td>\n",
       "    </tr>\n",
       "    <tr>\n",
       "      <th>1</th>\n",
       "      <td>841</td>\n",
       "      <td>1</td>\n",
       "      <td>0.5</td>\n",
       "      <td>1</td>\n",
       "      <td>4</td>\n",
       "      <td>1</td>\n",
       "      <td>61</td>\n",
       "      <td>0.8</td>\n",
       "      <td>191</td>\n",
       "      <td>5</td>\n",
       "      <td>...</td>\n",
       "      <td>746</td>\n",
       "      <td>857</td>\n",
       "      <td>3895</td>\n",
       "      <td>6</td>\n",
       "      <td>0</td>\n",
       "      <td>7</td>\n",
       "      <td>1</td>\n",
       "      <td>0</td>\n",
       "      <td>0</td>\n",
       "      <td>3</td>\n",
       "    </tr>\n",
       "    <tr>\n",
       "      <th>2</th>\n",
       "      <td>1807</td>\n",
       "      <td>1</td>\n",
       "      <td>2.8</td>\n",
       "      <td>0</td>\n",
       "      <td>1</td>\n",
       "      <td>0</td>\n",
       "      <td>27</td>\n",
       "      <td>0.9</td>\n",
       "      <td>186</td>\n",
       "      <td>3</td>\n",
       "      <td>...</td>\n",
       "      <td>1270</td>\n",
       "      <td>1366</td>\n",
       "      <td>2396</td>\n",
       "      <td>17</td>\n",
       "      <td>10</td>\n",
       "      <td>10</td>\n",
       "      <td>0</td>\n",
       "      <td>1</td>\n",
       "      <td>1</td>\n",
       "      <td>2</td>\n",
       "    </tr>\n",
       "    <tr>\n",
       "      <th>3</th>\n",
       "      <td>1546</td>\n",
       "      <td>0</td>\n",
       "      <td>0.5</td>\n",
       "      <td>1</td>\n",
       "      <td>18</td>\n",
       "      <td>1</td>\n",
       "      <td>25</td>\n",
       "      <td>0.5</td>\n",
       "      <td>96</td>\n",
       "      <td>8</td>\n",
       "      <td>...</td>\n",
       "      <td>295</td>\n",
       "      <td>1752</td>\n",
       "      <td>3893</td>\n",
       "      <td>10</td>\n",
       "      <td>0</td>\n",
       "      <td>7</td>\n",
       "      <td>1</td>\n",
       "      <td>1</td>\n",
       "      <td>0</td>\n",
       "      <td>3</td>\n",
       "    </tr>\n",
       "    <tr>\n",
       "      <th>4</th>\n",
       "      <td>1434</td>\n",
       "      <td>0</td>\n",
       "      <td>1.4</td>\n",
       "      <td>0</td>\n",
       "      <td>11</td>\n",
       "      <td>1</td>\n",
       "      <td>49</td>\n",
       "      <td>0.5</td>\n",
       "      <td>108</td>\n",
       "      <td>6</td>\n",
       "      <td>...</td>\n",
       "      <td>749</td>\n",
       "      <td>810</td>\n",
       "      <td>1773</td>\n",
       "      <td>15</td>\n",
       "      <td>8</td>\n",
       "      <td>7</td>\n",
       "      <td>1</td>\n",
       "      <td>0</td>\n",
       "      <td>1</td>\n",
       "      <td>1</td>\n",
       "    </tr>\n",
       "  </tbody>\n",
       "</table>\n",
       "<p>5 rows × 21 columns</p>\n",
       "</div>"
      ],
      "text/plain": [
       "   battery_power  blue  clock_speed  dual_sim  fc  four_g  int_memory  m_dep  \\\n",
       "0           1043     1          1.8         1  14       0           5    0.1   \n",
       "1            841     1          0.5         1   4       1          61    0.8   \n",
       "2           1807     1          2.8         0   1       0          27    0.9   \n",
       "3           1546     0          0.5         1  18       1          25    0.5   \n",
       "4           1434     0          1.4         0  11       1          49    0.5   \n",
       "\n",
       "   mobile_wt  n_cores  ...  px_height  px_width   ram  sc_h  sc_w  talk_time  \\\n",
       "0        193        3  ...        226      1412  3476    12     7          2   \n",
       "1        191        5  ...        746       857  3895     6     0          7   \n",
       "2        186        3  ...       1270      1366  2396    17    10         10   \n",
       "3         96        8  ...        295      1752  3893    10     0          7   \n",
       "4        108        6  ...        749       810  1773    15     8          7   \n",
       "\n",
       "   three_g  touch_screen  wifi  price_range  \n",
       "0        0             1     0            3  \n",
       "1        1             0     0            3  \n",
       "2        0             1     1            2  \n",
       "3        1             1     0            3  \n",
       "4        1             0     1            1  \n",
       "\n",
       "[5 rows x 21 columns]"
      ]
     },
     "execution_count": 84,
     "metadata": {},
     "output_type": "execute_result"
    }
   ],
   "source": [
    "df_test.head()"
   ]
  },
  {
   "cell_type": "code",
   "execution_count": 85,
   "metadata": {},
   "outputs": [
    {
     "data": {
      "text/plain": [
       "0       1\n",
       "1       2\n",
       "2       2\n",
       "3       2\n",
       "4       1\n",
       "       ..\n",
       "1995    0\n",
       "1996    2\n",
       "1997    3\n",
       "1998    0\n",
       "1999    3\n",
       "Name: price_range, Length: 2000, dtype: int64"
      ]
     },
     "execution_count": 85,
     "metadata": {},
     "output_type": "execute_result"
    }
   ],
   "source": [
    "df_train['price_range']"
   ]
  },
  {
   "cell_type": "markdown",
   "metadata": {},
   "source": [
    "**New predicted column is added price_range in test dataset according to features price range varies from 0,1,2,3**"
   ]
  },
  {
   "cell_type": "markdown",
   "metadata": {},
   "source": [
    "**Here, is a example of ram vs price range of test dataset**"
   ]
  },
  {
   "cell_type": "code",
   "execution_count": 86,
   "metadata": {},
   "outputs": [
    {
     "data": {
      "text/html": [
       "<div>\n",
       "<style scoped>\n",
       "    .dataframe tbody tr th:only-of-type {\n",
       "        vertical-align: middle;\n",
       "    }\n",
       "\n",
       "    .dataframe tbody tr th {\n",
       "        vertical-align: top;\n",
       "    }\n",
       "\n",
       "    .dataframe thead th {\n",
       "        text-align: right;\n",
       "    }\n",
       "</style>\n",
       "<table border=\"1\" class=\"dataframe\">\n",
       "  <thead>\n",
       "    <tr style=\"text-align: right;\">\n",
       "      <th></th>\n",
       "      <th>ram</th>\n",
       "      <th>price_range</th>\n",
       "    </tr>\n",
       "  </thead>\n",
       "  <tbody>\n",
       "    <tr>\n",
       "      <th>0</th>\n",
       "      <td>3476</td>\n",
       "      <td>3</td>\n",
       "    </tr>\n",
       "    <tr>\n",
       "      <th>1</th>\n",
       "      <td>3895</td>\n",
       "      <td>3</td>\n",
       "    </tr>\n",
       "    <tr>\n",
       "      <th>2</th>\n",
       "      <td>2396</td>\n",
       "      <td>2</td>\n",
       "    </tr>\n",
       "    <tr>\n",
       "      <th>3</th>\n",
       "      <td>3893</td>\n",
       "      <td>3</td>\n",
       "    </tr>\n",
       "    <tr>\n",
       "      <th>4</th>\n",
       "      <td>1773</td>\n",
       "      <td>1</td>\n",
       "    </tr>\n",
       "    <tr>\n",
       "      <th>...</th>\n",
       "      <td>...</td>\n",
       "      <td>...</td>\n",
       "    </tr>\n",
       "    <tr>\n",
       "      <th>995</th>\n",
       "      <td>2121</td>\n",
       "      <td>2</td>\n",
       "    </tr>\n",
       "    <tr>\n",
       "      <th>996</th>\n",
       "      <td>1933</td>\n",
       "      <td>1</td>\n",
       "    </tr>\n",
       "    <tr>\n",
       "      <th>997</th>\n",
       "      <td>1223</td>\n",
       "      <td>0</td>\n",
       "    </tr>\n",
       "    <tr>\n",
       "      <th>998</th>\n",
       "      <td>2509</td>\n",
       "      <td>2</td>\n",
       "    </tr>\n",
       "    <tr>\n",
       "      <th>999</th>\n",
       "      <td>2828</td>\n",
       "      <td>2</td>\n",
       "    </tr>\n",
       "  </tbody>\n",
       "</table>\n",
       "<p>1000 rows × 2 columns</p>\n",
       "</div>"
      ],
      "text/plain": [
       "      ram  price_range\n",
       "0    3476            3\n",
       "1    3895            3\n",
       "2    2396            2\n",
       "3    3893            3\n",
       "4    1773            1\n",
       "..    ...          ...\n",
       "995  2121            2\n",
       "996  1933            1\n",
       "997  1223            0\n",
       "998  2509            2\n",
       "999  2828            2\n",
       "\n",
       "[1000 rows x 2 columns]"
      ]
     },
     "execution_count": 86,
     "metadata": {},
     "output_type": "execute_result"
    }
   ],
   "source": [
    "pd.DataFrame({'ram' : df_test['ram'],'price_range' : predicted_price_range})"
   ]
  },
  {
   "cell_type": "markdown",
   "metadata": {},
   "source": [
    "- If ram is 3476 then price range is classified has 3\n",
    "- It is similar to train dataset"
   ]
  },
  {
   "cell_type": "markdown",
   "metadata": {},
   "source": [
    "**Conclusion**"
   ]
  },
  {
   "cell_type": "markdown",
   "metadata": {},
   "source": [
    "so, Bob has classified price range indicating how high the price is and starts opening his new shop"
   ]
  }
 ],
 "metadata": {
  "kernelspec": {
   "display_name": "Python 3",
   "language": "python",
   "name": "python3"
  },
  "language_info": {
   "codemirror_mode": {
    "name": "ipython",
    "version": 3
   },
   "file_extension": ".py",
   "mimetype": "text/x-python",
   "name": "python",
   "nbconvert_exporter": "python",
   "pygments_lexer": "ipython3",
   "version": "3.7.4"
  }
 },
 "nbformat": 4,
 "nbformat_minor": 4
}
